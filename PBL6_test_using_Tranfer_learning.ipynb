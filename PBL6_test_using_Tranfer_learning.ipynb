{
  "nbformat": 4,
  "nbformat_minor": 0,
  "metadata": {
    "colab": {
      "provenance": [],
      "gpuType": "T4"
    },
    "kernelspec": {
      "name": "python3",
      "display_name": "Python 3"
    },
    "language_info": {
      "name": "python"
    },
    "accelerator": "GPU"
  },
  "cells": [
    {
      "cell_type": "code",
      "execution_count": 1,
      "metadata": {
        "id": "nfp3tkDeOlpx"
      },
      "outputs": [],
      "source": [
        "# This Python 3 environment comes with many helpful analytics libraries installed\n",
        "# It is defined by the kaggle/python Docker image: https://github.com/kaggle/docker-python\n",
        "# For example, here's several helpful packages to load\n",
        "\n",
        "import numpy as np # linear algebra\n",
        "import pandas as pd # data processing, CSV file I/O (e.g. pd.read_csv)\n",
        "import cv2\n",
        "import keras\n",
        "from numpy import random\n",
        "from keras.optimizers import Adam\n",
        "import tensorflow as tf\n",
        "import tensorflow_datasets as tfds\n",
        "from matplotlib import pyplot as plt\n",
        "from keras.models import Sequential, Model\n",
        "from keras.layers import Dense, Dropout, Flatten, Conv2D\n",
        "from keras.layers import MaxPooling2D, BatchNormalization\n",
        "from keras.optimizers import SGD\n",
        "# from keras.utils import np_utils\n",
        "from tensorflow.keras.utils import to_categorical\n",
        "from keras.applications import MobileNet, VGG16, ResNet50,DenseNet201,InceptionV3,EfficientNetB7\n",
        "from sklearn.metrics import roc_curve, auc\n",
        "from tensorflow.keras.applications.resnet50 import preprocess_input\n",
        "from keras.callbacks import ModelCheckpoint, EarlyStopping, ReduceLROnPlateau\n",
        "from sklearn.metrics import precision_score, recall_score, accuracy_score\n",
        "from sklearn.metrics import classification_report ,confusion_matrix\n",
        "from keras.preprocessing.image import ImageDataGenerator\n",
        "from sklearn.model_selection import train_test_split\n",
        "from tabulate import tabulate\n",
        "import seaborn as sns\n",
        "\n",
        "# Input data files are available in the read-only \"../input/\" directory\n",
        "# For example, running this (by clicking run or pressing Shift+Enter) will list all files under the input directory\n",
        "\n",
        "import os\n",
        "\n",
        "\n",
        "# You can write up to 20GB to the current directory (/kaggle/working/) that gets preserved as output when you create a version using \"Save & Run All\"\n",
        "# You can also write temporary files to /kaggle/temp/, but they won't be saved outside of the current session"
      ]
    },
    {
      "cell_type": "code",
      "source": [
        "from google.colab import drive\n",
        "drive.mount('/content/drive')"
      ],
      "metadata": {
        "colab": {
          "base_uri": "https://localhost:8080/"
        },
        "id": "dmpHCoS0O6KR",
        "outputId": "8a75da42-79ba-45a1-d2f6-66a1edacda0c"
      },
      "execution_count": 2,
      "outputs": [
        {
          "output_type": "stream",
          "name": "stdout",
          "text": [
            "Mounted at /content/drive\n"
          ]
        }
      ]
    },
    {
      "cell_type": "markdown",
      "source": [
        "* **Directory of dataset**"
      ],
      "metadata": {
        "id": "pb9NTSDWPDiK"
      }
    },
    {
      "cell_type": "markdown",
      "source": [],
      "metadata": {
        "id": "D57-4f4RQyQi"
      }
    },
    {
      "cell_type": "code",
      "source": [
        "cd /content/drive/MyDrive/PBL6_Dataset"
      ],
      "metadata": {
        "colab": {
          "base_uri": "https://localhost:8080/"
        },
        "id": "ROX3lLUUQpu9",
        "outputId": "7d33df40-f934-41cb-d1ff-0868d39f519d"
      },
      "execution_count": 9,
      "outputs": [
        {
          "output_type": "stream",
          "name": "stdout",
          "text": [
            "/content/drive/MyDrive/PBL6_Dataset\n"
          ]
        }
      ]
    },
    {
      "cell_type": "code",
      "source": [
        "unzipPath = \"./\""
      ],
      "metadata": {
        "id": "k2fFIU9yRYLU"
      },
      "execution_count": 13,
      "outputs": []
    },
    {
      "cell_type": "code",
      "source": [
        "!unzip -q archive.zip -d $unzipPath"
      ],
      "metadata": {
        "id": "tsvBQL4vRahz"
      },
      "execution_count": 15,
      "outputs": []
    },
    {
      "cell_type": "code",
      "source": [
        "pwd"
      ],
      "metadata": {
        "colab": {
          "base_uri": "https://localhost:8080/",
          "height": 38
        },
        "id": "iK8SVVwLSJsZ",
        "outputId": "15c2af84-03d7-40f7-f494-67119c6db235"
      },
      "execution_count": 17,
      "outputs": [
        {
          "output_type": "execute_result",
          "data": {
            "text/plain": [
              "'/content/drive/MyDrive/PBL6_Dataset'"
            ],
            "application/vnd.google.colaboratory.intrinsic+json": {
              "type": "string"
            }
          },
          "metadata": {},
          "execution_count": 17
        }
      ]
    },
    {
      "cell_type": "code",
      "source": [
        "# Directory of train, validation and test\n",
        "\n",
        "train_folder = \"./Data/train\"\n",
        "valid_folder = \"./Data/valid\"\n",
        "test_folder = \"./Data/test\""
      ],
      "metadata": {
        "id": "U-cJHD5LO_or"
      },
      "execution_count": 18,
      "outputs": []
    },
    {
      "cell_type": "markdown",
      "source": [
        "* **Class Labels and Size**"
      ],
      "metadata": {
        "id": "S4kzsb9cPQDL"
      }
    },
    {
      "cell_type": "code",
      "source": [
        "print(\"\\n\\n\\t\\tTraining Set\")\n",
        "print(\"\\t  ========================\\n\")\n",
        "train_c = []\n",
        "for folder in os.listdir(train_folder):\n",
        "    train_c.append(folder)\n",
        "    print(\"\\nTrain \"+ folder + \" Class: \", len(os.listdir(train_folder + '/' + folder)))\n",
        "\n",
        "print(\"\\n\\n\", train_c)\n",
        "\n",
        "print(\"\\n\\n\\t\\tTesting Set\")\n",
        "print(\"\\t  ========================\\n\")\n",
        "test_c = []\n",
        "for folder in os.listdir(test_folder):\n",
        "    test_c.append(folder)\n",
        "    print(\"\\nTest \"+ folder + \" Class: \", len(os.listdir(test_folder + '/' + folder)))\n",
        "\n",
        "print(\"\\n\\n\", test_c)\n",
        "\n",
        "print(\"\\n\\n\\t\\tValidation Set\")\n",
        "print(\"\\t  ========================\\n\")\n",
        "val_c = []\n",
        "for folder in os.listdir(valid_folder):\n",
        "    val_c.append(folder)\n",
        "    print(\"\\nValidation \"+ folder + \" Class: \", len(os.listdir(valid_folder + '/' + folder)))\n",
        "\n",
        "print(\"\\n\\n\", val_c, \"\\n\")"
      ],
      "metadata": {
        "colab": {
          "base_uri": "https://localhost:8080/"
        },
        "id": "MBUB3IDDPNzO",
        "outputId": "0411ac76-389f-4f97-d351-c65f68376e55"
      },
      "execution_count": 19,
      "outputs": [
        {
          "output_type": "stream",
          "name": "stdout",
          "text": [
            "\n",
            "\n",
            "\t\tTraining Set\n",
            "\t  ========================\n",
            "\n",
            "\n",
            "Train adenocarcinoma_left.lower.lobe_T2_N0_M0_Ib Class:  195\n",
            "\n",
            "Train large.cell.carcinoma_left.hilum_T2_N2_M0_IIIa Class:  115\n",
            "\n",
            "Train normal Class:  148\n",
            "\n",
            "Train squamous.cell.carcinoma_left.hilum_T1_N2_M0_IIIa Class:  155\n",
            "\n",
            "\n",
            " ['adenocarcinoma_left.lower.lobe_T2_N0_M0_Ib', 'large.cell.carcinoma_left.hilum_T2_N2_M0_IIIa', 'normal', 'squamous.cell.carcinoma_left.hilum_T1_N2_M0_IIIa']\n",
            "\n",
            "\n",
            "\t\tTesting Set\n",
            "\t  ========================\n",
            "\n",
            "\n",
            "Test adenocarcinoma Class:  120\n",
            "\n",
            "Test large.cell.carcinoma Class:  51\n",
            "\n",
            "Test normal Class:  54\n",
            "\n",
            "Test squamous.cell.carcinoma Class:  90\n",
            "\n",
            "\n",
            " ['adenocarcinoma', 'large.cell.carcinoma', 'normal', 'squamous.cell.carcinoma']\n",
            "\n",
            "\n",
            "\t\tValidation Set\n",
            "\t  ========================\n",
            "\n",
            "\n",
            "Validation adenocarcinoma_left.lower.lobe_T2_N0_M0_Ib Class:  23\n",
            "\n",
            "Validation large.cell.carcinoma_left.hilum_T2_N2_M0_IIIa Class:  21\n",
            "\n",
            "Validation normal Class:  13\n",
            "\n",
            "Validation squamous.cell.carcinoma_left.hilum_T1_N2_M0_IIIa Class:  15\n",
            "\n",
            "\n",
            " ['adenocarcinoma_left.lower.lobe_T2_N0_M0_Ib', 'large.cell.carcinoma_left.hilum_T2_N2_M0_IIIa', 'normal', 'squamous.cell.carcinoma_left.hilum_T1_N2_M0_IIIa'] \n",
            "\n"
          ]
        }
      ]
    },
    {
      "cell_type": "markdown",
      "source": [
        "* **Define function to get Data**"
      ],
      "metadata": {
        "id": "o6dDGzpUSauc"
      }
    },
    {
      "cell_type": "code",
      "source": [
        "input_shape = (224,224,3)\n",
        "num_classes = 4\n",
        "\n",
        "train_datagen = ImageDataGenerator(\n",
        "    dtype='float32',\n",
        "    preprocessing_function=preprocess_input,\n",
        "    rotation_range=10,\n",
        "    width_shift_range=0.2,\n",
        "    height_shift_range=0.2,\n",
        "    shear_range=0.2,\n",
        "    zoom_range=0.2,\n",
        "    horizontal_flip=True,\n",
        "    vertical_flip=False\n",
        ")\n",
        "val_datagen = ImageDataGenerator(\n",
        "    dtype='float32',\n",
        "    preprocessing_function=preprocess_input,\n",
        ")\n",
        "test_datagen = ImageDataGenerator(\n",
        "    dtype='float32',\n",
        "    preprocessing_function=preprocess_input,\n",
        ")\n",
        "\n",
        "train_generator = train_datagen.flow_from_directory(\n",
        "    train_folder,\n",
        "    target_size=(224,224),\n",
        "    batch_size=32,\n",
        "    class_mode='categorical',\n",
        ")\n",
        "\n",
        "\n",
        "test_generator = test_datagen.flow_from_directory(\n",
        "    test_folder,\n",
        "    target_size=(224,224),\n",
        "    batch_size=32,\n",
        "    class_mode='categorical',\n",
        "    shuffle = False,\n",
        ")\n",
        "validation_generator = val_datagen.flow_from_directory(\n",
        "    valid_folder,\n",
        "    target_size=(224,224),\n",
        "    batch_size=32,\n",
        "    class_mode='categorical',\n",
        ")"
      ],
      "metadata": {
        "colab": {
          "base_uri": "https://localhost:8080/"
        },
        "id": "iLPcM2RXSbZF",
        "outputId": "25b81091-986f-4cc9-bf83-ace8c21fa9d7"
      },
      "execution_count": 20,
      "outputs": [
        {
          "output_type": "stream",
          "name": "stdout",
          "text": [
            "Found 613 images belonging to 4 classes.\n",
            "Found 315 images belonging to 4 classes.\n",
            "Found 72 images belonging to 4 classes.\n"
          ]
        }
      ]
    },
    {
      "cell_type": "markdown",
      "source": [
        "ResNet50"
      ],
      "metadata": {
        "id": "F9DY_TjfS04B"
      }
    },
    {
      "cell_type": "code",
      "source": [
        "ResNet50_model = ResNet50(weights = 'imagenet',\n",
        "                     include_top = False,\n",
        "                     input_shape = input_shape)\n",
        "\n",
        "for layer in ResNet50_model.layers:\n",
        "    layer.trainable = False"
      ],
      "metadata": {
        "colab": {
          "base_uri": "https://localhost:8080/"
        },
        "id": "AVVrBmjQSzNh",
        "outputId": "961a074c-02a8-4037-97bf-a83e090b0031"
      },
      "execution_count": 21,
      "outputs": [
        {
          "output_type": "stream",
          "name": "stdout",
          "text": [
            "Downloading data from https://storage.googleapis.com/tensorflow/keras-applications/resnet/resnet50_weights_tf_dim_ordering_tf_kernels_notop.h5\n",
            "94765736/94765736 [==============================] - 3s 0us/step\n"
          ]
        }
      ]
    },
    {
      "cell_type": "code",
      "source": [
        "# Define a Checkpoint\n",
        "checkpoint = ModelCheckpoint(filepath='C_CT_S.h5',\n",
        "                             monitor='val_accuracy',\n",
        "                             mode='max',\n",
        "                             save_best_only=True,\n",
        "                             verbose=1)\n",
        "\n",
        "# Define Early Stopping\n",
        "earlystop = EarlyStopping(monitor='val_accuracy',\n",
        "                         min_delta=0.001,  # Adjust the min_delta value as needed\n",
        "                         patience=15,\n",
        "                         restore_best_weights=True)\n",
        "\n",
        "# Define LR Reducing Rate\n",
        "reduce_lr = ReduceLROnPlateau(monitor='val_loss',  # You can use 'val_loss' for learning rate reduction\n",
        "                              factor=0.1,\n",
        "                              patience=10,\n",
        "                              verbose=1,\n",
        "                              min_delta=0.0001,\n",
        "                              min_lr=0.0001)\n",
        "\n",
        "# Put the callbacks in a callback list\n",
        "callbacks = [reduce_lr]\n",
        "\n",
        "# Define and compile your model\n",
        "model = Sequential([\n",
        "    ResNet50_model,\n",
        "    BatchNormalization(),\n",
        "    MaxPooling2D(pool_size=(2, 2)),\n",
        "    Dropout(0.3),\n",
        "    Flatten(),\n",
        "    Dense(1024, activation='relu'),\n",
        "    Dropout(0.3),\n",
        "    Dense(512, activation='relu'),\n",
        "    Dropout(0.3),\n",
        "    Dense(256, activation='relu'),\n",
        "    Dropout(0.3),\n",
        "    Dense(num_classes, activation='softmax')\n",
        "])\n",
        "\n",
        "model.compile(optimizer=Adam(learning_rate=0.001), loss='categorical_crossentropy', metrics=['accuracy'])\n",
        "\n",
        "# Fit the model with callbacks\n",
        "epochs = 50\n",
        "\n",
        "history = model.fit(\n",
        "    train_generator,\n",
        "    validation_data=validation_generator,\n",
        "    epochs=epochs,\n",
        "    callbacks=callbacks,  # Include the defined callbacks\n",
        "    verbose=1\n",
        ")\n",
        "test = test_generator\n",
        "score = model.evaluate(test, verbose = 1)\n",
        "print(\"Test loss:\", score[0])\n",
        "print(\"Test accuracy:\", score[1])"
      ],
      "metadata": {
        "colab": {
          "base_uri": "https://localhost:8080/"
        },
        "id": "itIZQN6KS4Vz",
        "outputId": "13fed7c9-d0fb-467c-f629-79e7f791f276"
      },
      "execution_count": 22,
      "outputs": [
        {
          "output_type": "stream",
          "name": "stdout",
          "text": [
            "Epoch 1/50\n",
            "20/20 [==============================] - 33s 742ms/step - loss: 4.5346 - accuracy: 0.3964 - val_loss: 2.3743 - val_accuracy: 0.4861 - lr: 0.0010\n",
            "Epoch 2/50\n",
            "20/20 [==============================] - 14s 700ms/step - loss: 3.1491 - accuracy: 0.4992 - val_loss: 1.3611 - val_accuracy: 0.4444 - lr: 0.0010\n",
            "Epoch 3/50\n",
            "20/20 [==============================] - 15s 723ms/step - loss: 1.8659 - accuracy: 0.5008 - val_loss: 1.1886 - val_accuracy: 0.4306 - lr: 0.0010\n",
            "Epoch 4/50\n",
            "20/20 [==============================] - 13s 690ms/step - loss: 1.4657 - accuracy: 0.5416 - val_loss: 1.6184 - val_accuracy: 0.3750 - lr: 0.0010\n",
            "Epoch 5/50\n",
            "20/20 [==============================] - 14s 675ms/step - loss: 1.1764 - accuracy: 0.5498 - val_loss: 1.0245 - val_accuracy: 0.4444 - lr: 0.0010\n",
            "Epoch 6/50\n",
            "20/20 [==============================] - 14s 695ms/step - loss: 1.0587 - accuracy: 0.5661 - val_loss: 0.8700 - val_accuracy: 0.5000 - lr: 0.0010\n",
            "Epoch 7/50\n",
            "20/20 [==============================] - 16s 813ms/step - loss: 0.9837 - accuracy: 0.6020 - val_loss: 0.8486 - val_accuracy: 0.5972 - lr: 0.0010\n",
            "Epoch 8/50\n",
            "20/20 [==============================] - 14s 689ms/step - loss: 0.8970 - accuracy: 0.6150 - val_loss: 0.8553 - val_accuracy: 0.5278 - lr: 0.0010\n",
            "Epoch 9/50\n",
            "20/20 [==============================] - 14s 659ms/step - loss: 0.8359 - accuracy: 0.6542 - val_loss: 0.7913 - val_accuracy: 0.5833 - lr: 0.0010\n",
            "Epoch 10/50\n",
            "20/20 [==============================] - 14s 694ms/step - loss: 0.7711 - accuracy: 0.6835 - val_loss: 0.7232 - val_accuracy: 0.6250 - lr: 0.0010\n",
            "Epoch 11/50\n",
            "20/20 [==============================] - 12s 591ms/step - loss: 0.8195 - accuracy: 0.6721 - val_loss: 0.8052 - val_accuracy: 0.6250 - lr: 0.0010\n",
            "Epoch 12/50\n",
            "20/20 [==============================] - 14s 675ms/step - loss: 0.6988 - accuracy: 0.6998 - val_loss: 0.8209 - val_accuracy: 0.6111 - lr: 0.0010\n",
            "Epoch 13/50\n",
            "20/20 [==============================] - 14s 701ms/step - loss: 0.6721 - accuracy: 0.7243 - val_loss: 0.7152 - val_accuracy: 0.6667 - lr: 0.0010\n",
            "Epoch 14/50\n",
            "20/20 [==============================] - 15s 760ms/step - loss: 0.6163 - accuracy: 0.7292 - val_loss: 0.6140 - val_accuracy: 0.7361 - lr: 0.0010\n",
            "Epoch 15/50\n",
            "20/20 [==============================] - 13s 653ms/step - loss: 0.6080 - accuracy: 0.7618 - val_loss: 0.7648 - val_accuracy: 0.6250 - lr: 0.0010\n",
            "Epoch 16/50\n",
            "20/20 [==============================] - 14s 655ms/step - loss: 0.5927 - accuracy: 0.7602 - val_loss: 0.5748 - val_accuracy: 0.7083 - lr: 0.0010\n",
            "Epoch 17/50\n",
            "20/20 [==============================] - 14s 662ms/step - loss: 0.5775 - accuracy: 0.7667 - val_loss: 0.5584 - val_accuracy: 0.7917 - lr: 0.0010\n",
            "Epoch 18/50\n",
            "20/20 [==============================] - 14s 678ms/step - loss: 0.5617 - accuracy: 0.7847 - val_loss: 0.5526 - val_accuracy: 0.8194 - lr: 0.0010\n",
            "Epoch 19/50\n",
            "20/20 [==============================] - 13s 675ms/step - loss: 0.5076 - accuracy: 0.7993 - val_loss: 0.5107 - val_accuracy: 0.8194 - lr: 0.0010\n",
            "Epoch 20/50\n",
            "20/20 [==============================] - 14s 710ms/step - loss: 0.4808 - accuracy: 0.8189 - val_loss: 0.5741 - val_accuracy: 0.7917 - lr: 0.0010\n",
            "Epoch 21/50\n",
            "20/20 [==============================] - 14s 697ms/step - loss: 0.4702 - accuracy: 0.8042 - val_loss: 0.5684 - val_accuracy: 0.7778 - lr: 0.0010\n",
            "Epoch 22/50\n",
            "20/20 [==============================] - 15s 758ms/step - loss: 0.3884 - accuracy: 0.8467 - val_loss: 0.5553 - val_accuracy: 0.7778 - lr: 0.0010\n",
            "Epoch 23/50\n",
            "20/20 [==============================] - 14s 687ms/step - loss: 0.4522 - accuracy: 0.8320 - val_loss: 0.6477 - val_accuracy: 0.8056 - lr: 0.0010\n",
            "Epoch 24/50\n",
            "20/20 [==============================] - 14s 686ms/step - loss: 0.3755 - accuracy: 0.8483 - val_loss: 0.6258 - val_accuracy: 0.7500 - lr: 0.0010\n",
            "Epoch 25/50\n",
            "20/20 [==============================] - 14s 696ms/step - loss: 0.4419 - accuracy: 0.8369 - val_loss: 0.5782 - val_accuracy: 0.7917 - lr: 0.0010\n",
            "Epoch 26/50\n",
            "20/20 [==============================] - 15s 759ms/step - loss: 0.3890 - accuracy: 0.8401 - val_loss: 0.4388 - val_accuracy: 0.8472 - lr: 0.0010\n",
            "Epoch 27/50\n",
            "20/20 [==============================] - 14s 690ms/step - loss: 0.3635 - accuracy: 0.8695 - val_loss: 0.5206 - val_accuracy: 0.8333 - lr: 0.0010\n",
            "Epoch 28/50\n",
            "20/20 [==============================] - 13s 647ms/step - loss: 0.3436 - accuracy: 0.8728 - val_loss: 0.4745 - val_accuracy: 0.8611 - lr: 0.0010\n",
            "Epoch 29/50\n",
            "20/20 [==============================] - 13s 635ms/step - loss: 0.3267 - accuracy: 0.8679 - val_loss: 0.6014 - val_accuracy: 0.8056 - lr: 0.0010\n",
            "Epoch 30/50\n",
            "20/20 [==============================] - 13s 632ms/step - loss: 0.3498 - accuracy: 0.8809 - val_loss: 0.5642 - val_accuracy: 0.8333 - lr: 0.0010\n",
            "Epoch 31/50\n",
            "20/20 [==============================] - 16s 791ms/step - loss: 0.3413 - accuracy: 0.8662 - val_loss: 0.4314 - val_accuracy: 0.8333 - lr: 0.0010\n",
            "Epoch 32/50\n",
            "20/20 [==============================] - 14s 702ms/step - loss: 0.3232 - accuracy: 0.8809 - val_loss: 0.6260 - val_accuracy: 0.8194 - lr: 0.0010\n",
            "Epoch 33/50\n",
            "20/20 [==============================] - 13s 669ms/step - loss: 0.3599 - accuracy: 0.8711 - val_loss: 0.4725 - val_accuracy: 0.8472 - lr: 0.0010\n",
            "Epoch 34/50\n",
            "20/20 [==============================] - 13s 671ms/step - loss: 0.3361 - accuracy: 0.8744 - val_loss: 0.6719 - val_accuracy: 0.7500 - lr: 0.0010\n",
            "Epoch 35/50\n",
            "20/20 [==============================] - 15s 740ms/step - loss: 0.3692 - accuracy: 0.8630 - val_loss: 0.5357 - val_accuracy: 0.8333 - lr: 0.0010\n",
            "Epoch 36/50\n",
            "20/20 [==============================] - 14s 708ms/step - loss: 0.3179 - accuracy: 0.8809 - val_loss: 0.3898 - val_accuracy: 0.8611 - lr: 0.0010\n",
            "Epoch 37/50\n",
            "20/20 [==============================] - 14s 720ms/step - loss: 0.3062 - accuracy: 0.8940 - val_loss: 0.3926 - val_accuracy: 0.8611 - lr: 0.0010\n",
            "Epoch 38/50\n",
            "20/20 [==============================] - 14s 694ms/step - loss: 0.3044 - accuracy: 0.8760 - val_loss: 0.4392 - val_accuracy: 0.8611 - lr: 0.0010\n",
            "Epoch 39/50\n",
            "20/20 [==============================] - 14s 706ms/step - loss: 0.2814 - accuracy: 0.9054 - val_loss: 0.5055 - val_accuracy: 0.8611 - lr: 0.0010\n",
            "Epoch 40/50\n",
            "20/20 [==============================] - 16s 805ms/step - loss: 0.3191 - accuracy: 0.8793 - val_loss: 0.4277 - val_accuracy: 0.8472 - lr: 0.0010\n",
            "Epoch 41/50\n",
            "20/20 [==============================] - 14s 692ms/step - loss: 0.2863 - accuracy: 0.8907 - val_loss: 0.4574 - val_accuracy: 0.8194 - lr: 0.0010\n",
            "Epoch 42/50\n",
            "20/20 [==============================] - 14s 681ms/step - loss: 0.2681 - accuracy: 0.9005 - val_loss: 0.3631 - val_accuracy: 0.8611 - lr: 0.0010\n",
            "Epoch 43/50\n",
            "20/20 [==============================] - 13s 672ms/step - loss: 0.2562 - accuracy: 0.9184 - val_loss: 0.4897 - val_accuracy: 0.8194 - lr: 0.0010\n",
            "Epoch 44/50\n",
            "20/20 [==============================] - 15s 750ms/step - loss: 0.2321 - accuracy: 0.9217 - val_loss: 0.4524 - val_accuracy: 0.8611 - lr: 0.0010\n",
            "Epoch 45/50\n",
            "20/20 [==============================] - 14s 677ms/step - loss: 0.2610 - accuracy: 0.9086 - val_loss: 0.5043 - val_accuracy: 0.8333 - lr: 0.0010\n",
            "Epoch 46/50\n",
            "20/20 [==============================] - 14s 699ms/step - loss: 0.3002 - accuracy: 0.8940 - val_loss: 0.5213 - val_accuracy: 0.8472 - lr: 0.0010\n",
            "Epoch 47/50\n",
            "20/20 [==============================] - 14s 699ms/step - loss: 0.2987 - accuracy: 0.8907 - val_loss: 0.4688 - val_accuracy: 0.8611 - lr: 0.0010\n",
            "Epoch 48/50\n",
            "20/20 [==============================] - 16s 789ms/step - loss: 0.3008 - accuracy: 0.9021 - val_loss: 0.4237 - val_accuracy: 0.8333 - lr: 0.0010\n",
            "Epoch 49/50\n",
            "20/20 [==============================] - 14s 687ms/step - loss: 0.3437 - accuracy: 0.8793 - val_loss: 0.4082 - val_accuracy: 0.8472 - lr: 0.0010\n",
            "Epoch 50/50\n",
            "20/20 [==============================] - 14s 700ms/step - loss: 0.2437 - accuracy: 0.8989 - val_loss: 0.4184 - val_accuracy: 0.8056 - lr: 0.0010\n",
            "10/10 [==============================] - 4s 393ms/step - loss: 0.6540 - accuracy: 0.7524\n",
            "Test loss: 0.6539647579193115\n",
            "Test accuracy: 0.7523809671401978\n"
          ]
        }
      ]
    },
    {
      "cell_type": "code",
      "source": [
        "model.save('Tranfer_best_model_075.h1')"
      ],
      "metadata": {
        "id": "K34g8yNsTMy_"
      },
      "execution_count": 23,
      "outputs": []
    },
    {
      "cell_type": "code",
      "source": [
        "history = model.fit(\n",
        "    train_generator,\n",
        "    validation_data=validation_generator,\n",
        "    epochs=epochs,\n",
        "    callbacks=callbacks,  # Include the defined callbacks\n",
        "    verbose=1\n",
        ")"
      ],
      "metadata": {
        "colab": {
          "base_uri": "https://localhost:8080/"
        },
        "id": "cAs9Rr7nYLJu",
        "outputId": "612e6425-14b7-45e6-e468-55f081eddb15"
      },
      "execution_count": 24,
      "outputs": [
        {
          "output_type": "stream",
          "name": "stdout",
          "text": [
            "Epoch 1/50\n",
            "20/20 [==============================] - 14s 691ms/step - loss: 0.2192 - accuracy: 0.9184 - val_loss: 0.3687 - val_accuracy: 0.8889 - lr: 0.0010\n",
            "Epoch 2/50\n",
            "20/20 [==============================] - 15s 762ms/step - loss: 0.2721 - accuracy: 0.8989 - val_loss: 0.4946 - val_accuracy: 0.8611 - lr: 0.0010\n",
            "Epoch 3/50\n",
            "20/20 [==============================] - 14s 653ms/step - loss: 0.2018 - accuracy: 0.9201 - val_loss: 0.4822 - val_accuracy: 0.8611 - lr: 0.0010\n",
            "Epoch 4/50\n",
            "20/20 [==============================] - 14s 664ms/step - loss: 0.2561 - accuracy: 0.9119 - val_loss: 0.5677 - val_accuracy: 0.8611 - lr: 0.0010\n",
            "Epoch 5/50\n",
            "20/20 [==============================] - 14s 692ms/step - loss: 0.1944 - accuracy: 0.9266 - val_loss: 0.5235 - val_accuracy: 0.8750 - lr: 0.0010\n",
            "Epoch 6/50\n",
            "20/20 [==============================] - 16s 800ms/step - loss: 0.2614 - accuracy: 0.9103 - val_loss: 0.3808 - val_accuracy: 0.8611 - lr: 0.0010\n",
            "Epoch 7/50\n",
            "20/20 [==============================] - 14s 711ms/step - loss: 0.2537 - accuracy: 0.9119 - val_loss: 0.4201 - val_accuracy: 0.9028 - lr: 0.0010\n",
            "Epoch 8/50\n",
            "20/20 [==============================] - 14s 689ms/step - loss: 0.2783 - accuracy: 0.9005 - val_loss: 0.3613 - val_accuracy: 0.9167 - lr: 0.0010\n",
            "Epoch 9/50\n",
            "20/20 [==============================] - 14s 727ms/step - loss: 0.2101 - accuracy: 0.9299 - val_loss: 0.5473 - val_accuracy: 0.8611 - lr: 0.0010\n",
            "Epoch 10/50\n",
            "20/20 [==============================] - 15s 755ms/step - loss: 0.2116 - accuracy: 0.9331 - val_loss: 0.6121 - val_accuracy: 0.8611 - lr: 0.0010\n",
            "Epoch 11/50\n",
            "20/20 [==============================] - 14s 697ms/step - loss: 0.2269 - accuracy: 0.9086 - val_loss: 0.5006 - val_accuracy: 0.8611 - lr: 0.0010\n",
            "Epoch 12/50\n",
            "20/20 [==============================] - 13s 671ms/step - loss: 0.2317 - accuracy: 0.9021 - val_loss: 0.5705 - val_accuracy: 0.8333 - lr: 0.0010\n",
            "Epoch 13/50\n",
            "20/20 [==============================] - 13s 669ms/step - loss: 0.2151 - accuracy: 0.9054 - val_loss: 0.5445 - val_accuracy: 0.9028 - lr: 0.0010\n",
            "Epoch 14/50\n",
            "20/20 [==============================] - 13s 667ms/step - loss: 0.2478 - accuracy: 0.9086 - val_loss: 0.4545 - val_accuracy: 0.8750 - lr: 0.0010\n",
            "Epoch 15/50\n",
            "20/20 [==============================] - 16s 781ms/step - loss: 0.2197 - accuracy: 0.9103 - val_loss: 0.4733 - val_accuracy: 0.8472 - lr: 0.0010\n",
            "Epoch 16/50\n",
            "20/20 [==============================] - 13s 660ms/step - loss: 0.1690 - accuracy: 0.9445 - val_loss: 0.4597 - val_accuracy: 0.8889 - lr: 0.0010\n",
            "Epoch 17/50\n",
            "20/20 [==============================] - 13s 681ms/step - loss: 0.2200 - accuracy: 0.9184 - val_loss: 0.4266 - val_accuracy: 0.8889 - lr: 0.0010\n",
            "Epoch 18/50\n",
            "20/20 [==============================] - 13s 668ms/step - loss: 0.2674 - accuracy: 0.9086 - val_loss: 0.3385 - val_accuracy: 0.8889 - lr: 0.0010\n",
            "Epoch 19/50\n",
            "20/20 [==============================] - 15s 752ms/step - loss: 0.1985 - accuracy: 0.9347 - val_loss: 0.3520 - val_accuracy: 0.9167 - lr: 0.0010\n",
            "Epoch 20/50\n",
            "20/20 [==============================] - 14s 695ms/step - loss: 0.2424 - accuracy: 0.9250 - val_loss: 0.3899 - val_accuracy: 0.8889 - lr: 0.0010\n",
            "Epoch 21/50\n",
            "20/20 [==============================] - 14s 707ms/step - loss: 0.1635 - accuracy: 0.9380 - val_loss: 0.4427 - val_accuracy: 0.8750 - lr: 0.0010\n",
            "Epoch 22/50\n",
            "20/20 [==============================] - 13s 661ms/step - loss: 0.2048 - accuracy: 0.9364 - val_loss: 0.4257 - val_accuracy: 0.8889 - lr: 0.0010\n",
            "Epoch 23/50\n",
            "20/20 [==============================] - 14s 671ms/step - loss: 0.1823 - accuracy: 0.9250 - val_loss: 0.4475 - val_accuracy: 0.8750 - lr: 0.0010\n",
            "Epoch 24/50\n",
            "20/20 [==============================] - 13s 668ms/step - loss: 0.1717 - accuracy: 0.9347 - val_loss: 0.3855 - val_accuracy: 0.9028 - lr: 0.0010\n",
            "Epoch 25/50\n",
            "20/20 [==============================] - 14s 682ms/step - loss: 0.1811 - accuracy: 0.9413 - val_loss: 0.4368 - val_accuracy: 0.8750 - lr: 0.0010\n",
            "Epoch 26/50\n",
            "20/20 [==============================] - 13s 651ms/step - loss: 0.2592 - accuracy: 0.8923 - val_loss: 0.4672 - val_accuracy: 0.8750 - lr: 0.0010\n",
            "Epoch 27/50\n",
            "20/20 [==============================] - 15s 741ms/step - loss: 0.2363 - accuracy: 0.9135 - val_loss: 0.5710 - val_accuracy: 0.8611 - lr: 0.0010\n",
            "Epoch 28/50\n",
            "20/20 [==============================] - ETA: 0s - loss: 0.2048 - accuracy: 0.9347\n",
            "Epoch 28: ReduceLROnPlateau reducing learning rate to 0.00010000000474974513.\n",
            "20/20 [==============================] - 13s 646ms/step - loss: 0.2048 - accuracy: 0.9347 - val_loss: 0.4656 - val_accuracy: 0.8889 - lr: 0.0010\n",
            "Epoch 29/50\n",
            "20/20 [==============================] - 12s 602ms/step - loss: 0.2513 - accuracy: 0.9038 - val_loss: 0.4392 - val_accuracy: 0.9028 - lr: 1.0000e-04\n",
            "Epoch 30/50\n",
            "20/20 [==============================] - 13s 621ms/step - loss: 0.2292 - accuracy: 0.9347 - val_loss: 0.4243 - val_accuracy: 0.9028 - lr: 1.0000e-04\n",
            "Epoch 31/50\n",
            "20/20 [==============================] - 15s 773ms/step - loss: 0.1697 - accuracy: 0.9347 - val_loss: 0.4139 - val_accuracy: 0.9028 - lr: 1.0000e-04\n",
            "Epoch 32/50\n",
            "20/20 [==============================] - 13s 670ms/step - loss: 0.1880 - accuracy: 0.9233 - val_loss: 0.4089 - val_accuracy: 0.9028 - lr: 1.0000e-04\n",
            "Epoch 33/50\n",
            "20/20 [==============================] - 13s 657ms/step - loss: 0.1879 - accuracy: 0.9331 - val_loss: 0.4113 - val_accuracy: 0.9028 - lr: 1.0000e-04\n",
            "Epoch 34/50\n",
            "20/20 [==============================] - 13s 652ms/step - loss: 0.1499 - accuracy: 0.9462 - val_loss: 0.4256 - val_accuracy: 0.9028 - lr: 1.0000e-04\n",
            "Epoch 35/50\n",
            "20/20 [==============================] - 13s 656ms/step - loss: 0.1528 - accuracy: 0.9462 - val_loss: 0.4399 - val_accuracy: 0.9028 - lr: 1.0000e-04\n",
            "Epoch 36/50\n",
            "20/20 [==============================] - 15s 728ms/step - loss: 0.1634 - accuracy: 0.9462 - val_loss: 0.4446 - val_accuracy: 0.8889 - lr: 1.0000e-04\n",
            "Epoch 37/50\n",
            "20/20 [==============================] - 13s 642ms/step - loss: 0.1737 - accuracy: 0.9445 - val_loss: 0.4077 - val_accuracy: 0.9167 - lr: 1.0000e-04\n",
            "Epoch 38/50\n",
            "20/20 [==============================] - ETA: 0s - loss: 0.1553 - accuracy: 0.9543\n",
            "Epoch 38: ReduceLROnPlateau reducing learning rate to 0.0001.\n",
            "20/20 [==============================] - 12s 614ms/step - loss: 0.1553 - accuracy: 0.9543 - val_loss: 0.4001 - val_accuracy: 0.9167 - lr: 1.0000e-04\n",
            "Epoch 39/50\n",
            "20/20 [==============================] - 13s 659ms/step - loss: 0.1505 - accuracy: 0.9445 - val_loss: 0.4049 - val_accuracy: 0.9167 - lr: 1.0000e-04\n",
            "Epoch 40/50\n",
            "20/20 [==============================] - 15s 743ms/step - loss: 0.1413 - accuracy: 0.9494 - val_loss: 0.3973 - val_accuracy: 0.9028 - lr: 1.0000e-04\n",
            "Epoch 41/50\n",
            "20/20 [==============================] - 13s 648ms/step - loss: 0.1382 - accuracy: 0.9527 - val_loss: 0.4079 - val_accuracy: 0.9028 - lr: 1.0000e-04\n",
            "Epoch 42/50\n",
            "20/20 [==============================] - 13s 651ms/step - loss: 0.1229 - accuracy: 0.9462 - val_loss: 0.4051 - val_accuracy: 0.9028 - lr: 1.0000e-04\n",
            "Epoch 43/50\n",
            "20/20 [==============================] - 14s 677ms/step - loss: 0.1107 - accuracy: 0.9494 - val_loss: 0.4081 - val_accuracy: 0.9028 - lr: 1.0000e-04\n",
            "Epoch 44/50\n",
            "20/20 [==============================] - 14s 723ms/step - loss: 0.1416 - accuracy: 0.9494 - val_loss: 0.4058 - val_accuracy: 0.9028 - lr: 1.0000e-04\n",
            "Epoch 45/50\n",
            "20/20 [==============================] - 15s 715ms/step - loss: 0.1364 - accuracy: 0.9413 - val_loss: 0.4045 - val_accuracy: 0.9028 - lr: 1.0000e-04\n",
            "Epoch 46/50\n",
            "20/20 [==============================] - 14s 691ms/step - loss: 0.1336 - accuracy: 0.9592 - val_loss: 0.3932 - val_accuracy: 0.9028 - lr: 1.0000e-04\n",
            "Epoch 47/50\n",
            "20/20 [==============================] - 14s 702ms/step - loss: 0.1361 - accuracy: 0.9511 - val_loss: 0.3943 - val_accuracy: 0.9028 - lr: 1.0000e-04\n",
            "Epoch 48/50\n",
            "20/20 [==============================] - 14s 681ms/step - loss: 0.1179 - accuracy: 0.9674 - val_loss: 0.3994 - val_accuracy: 0.9028 - lr: 1.0000e-04\n",
            "Epoch 49/50\n",
            "20/20 [==============================] - 16s 783ms/step - loss: 0.1160 - accuracy: 0.9511 - val_loss: 0.3899 - val_accuracy: 0.9028 - lr: 1.0000e-04\n",
            "Epoch 50/50\n",
            "20/20 [==============================] - 14s 680ms/step - loss: 0.1152 - accuracy: 0.9560 - val_loss: 0.4061 - val_accuracy: 0.9028 - lr: 1.0000e-04\n"
          ]
        }
      ]
    },
    {
      "cell_type": "code",
      "source": [
        "score = model.evaluate(test, verbose = 1)\n",
        "print(\"Test loss:\", score[0])\n",
        "print(\"Test accuracy:\", score[1])"
      ],
      "metadata": {
        "colab": {
          "base_uri": "https://localhost:8080/"
        },
        "id": "TwCBfEz8e5Cr",
        "outputId": "436e061f-c9a3-4d55-9145-a42d748138c9"
      },
      "execution_count": 25,
      "outputs": [
        {
          "output_type": "stream",
          "name": "stdout",
          "text": [
            "10/10 [==============================] - 3s 279ms/step - loss: 0.4474 - accuracy: 0.8571\n",
            "Test loss: 0.4473704993724823\n",
            "Test accuracy: 0.8571428656578064\n"
          ]
        }
      ]
    },
    {
      "cell_type": "code",
      "source": [
        "model.save('Tranfer_best_model_085.h2')"
      ],
      "metadata": {
        "id": "ArXPiqo6e_qE"
      },
      "execution_count": 26,
      "outputs": []
    }
  ]
}