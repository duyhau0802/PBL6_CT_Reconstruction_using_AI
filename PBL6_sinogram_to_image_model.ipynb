{
  "cells": [
    {
      "cell_type": "markdown",
      "metadata": {
        "id": "3NyL1RKMIZHK"
      },
      "source": []
    },
    {
      "cell_type": "code",
      "execution_count": null,
      "metadata": {
        "colab": {
          "base_uri": "https://localhost:8080/"
        },
        "id": "PH6mBnqeFq7p",
        "outputId": "f78fffcf-fbb1-4b47-f839-4205cb584f10"
      },
      "outputs": [
        {
          "output_type": "stream",
          "name": "stdout",
          "text": [
            "Mounted at /content/drive\n"
          ]
        }
      ],
      "source": [
        "from google.colab import drive\n",
        "drive.mount('/content/drive')"
      ]
    },
    {
      "cell_type": "code",
      "execution_count": null,
      "metadata": {
        "colab": {
          "base_uri": "https://localhost:8080/"
        },
        "id": "NS9LqIpEF8Z1",
        "outputId": "42a9afa5-2a7e-42f7-c817-8363835f1e71"
      },
      "outputs": [
        {
          "output_type": "stream",
          "name": "stdout",
          "text": [
            "/content/drive/MyDrive/PBL6\n"
          ]
        }
      ],
      "source": [
        "cd /content/drive/MyDrive/PBL6"
      ]
    },
    {
      "cell_type": "markdown",
      "metadata": {
        "id": "RP4ktsjR8rtX"
      },
      "source": [
        "# Load dataset\n"
      ]
    },
    {
      "cell_type": "code",
      "execution_count": null,
      "metadata": {
        "id": "mhOe480a8xNj",
        "colab": {
          "base_uri": "https://localhost:8080/"
        },
        "outputId": "24ac5d0a-9fc5-4a10-bfce-bdbef39c9ef5"
      },
      "outputs": [
        {
          "output_type": "stream",
          "name": "stdout",
          "text": [
            "replace ./COULE_GT/0.png? [y]es, [n]o, [A]ll, [N]one, [r]ename: "
          ]
        }
      ],
      "source": [
        "unzipPath = \"./\"\n",
        "!unzip -q COULE.zip -d $unzipPath"
      ]
    },
    {
      "cell_type": "code",
      "execution_count": null,
      "metadata": {
        "colab": {
          "base_uri": "https://localhost:8080/"
        },
        "id": "Gd0BWv1L9AJ-",
        "outputId": "0ebba630-7d8b-4f5c-af7b-139411cbffbd"
      },
      "outputs": [
        {
          "output_type": "stream",
          "name": "stdout",
          "text": [
            "\u001b[0m\u001b[01;34mCOULE_GT\u001b[0m/    COULE.zip             PBL6_sinogram_to_image_model.ipynb\n",
            "\u001b[01;34mCOULE_test\u001b[0m/  images_2d_array.xlsx  sinograms_2d_array.xlsx\n"
          ]
        }
      ],
      "source": [
        "ls"
      ]
    },
    {
      "cell_type": "code",
      "execution_count": null,
      "metadata": {
        "colab": {
          "base_uri": "https://localhost:8080/"
        },
        "id": "O1vFsyogAs30",
        "outputId": "fbeb6c0e-0e55-4309-bec2-ef0a838f357c"
      },
      "outputs": [
        {
          "output_type": "stream",
          "name": "stdout",
          "text": [
            "images 0\n"
          ]
        },
        {
          "output_type": "stream",
          "name": "stderr",
          "text": [
            "/usr/local/lib/python3.10/dist-packages/skimage/transform/radon_transform.py:75: UserWarning: Radon transform: image must be zero outside the reconstruction circle\n",
            "  warn('Radon transform: image must be zero outside the '\n"
          ]
        },
        {
          "output_type": "stream",
          "name": "stdout",
          "text": [
            "images 40\n",
            "images 80\n",
            "images 120\n",
            "images 160\n",
            "images 200\n",
            "images 240\n",
            "images 280\n",
            "images 320\n",
            "images 360\n"
          ]
        }
      ],
      "source": [
        "import os\n",
        "import numpy as np\n",
        "import matplotlib.pyplot as plt\n",
        "from skimage.io import imread\n",
        "from skimage.transform import radon\n",
        "from skimage.transform import iradon\n",
        "\n",
        "\n",
        "image_directory = \"./COULE_GT/\"\n",
        "num_images = 400\n",
        "num_angles = 180\n",
        "\n",
        "sinograms = []\n",
        "images = []\n",
        "\n",
        "for i in range(num_images):\n",
        "    # Tạo tên tệp ảnh\n",
        "    if (i%40==0):\n",
        "      print(f'images {i}')\n",
        "    image_filename = f'{i}.png'\n",
        "    image = imread(image_directory+image_filename, as_gray=True)\n",
        "    images.append(image)\n",
        "    theta = np.linspace(0, 180, max(image.shape), endpoint=False)\n",
        "    sino = radon(image, theta=theta)\n",
        "    sinograms.append(sino)\n",
        "sinograms_array = np.array(sinograms)\n",
        "images_array = np.array(images)"
      ]
    },
    {
      "cell_type": "code",
      "source": [
        "image_directory = \"./COULE_test/\"\n",
        "num_images = 30\n",
        "num_angles = 180\n",
        "\n",
        "test_sinograms = []\n",
        "test_images = []\n",
        "\n",
        "for i in range(num_images):\n",
        "    # Tạo tên tệp ảnh\n",
        "    if (i%10==0):\n",
        "      print(f'images {i}')\n",
        "    image_filename = f'{i}.png'\n",
        "    image = imread(image_directory+image_filename, as_gray=True)\n",
        "    test_images.append(image)\n",
        "    theta = np.linspace(0, 180, max(image.shape), endpoint=False)\n",
        "    sino = radon(image, theta=theta)\n",
        "    test_sinograms.append(sino)\n",
        "test_sinograms_array = np.array(test_sinograms)\n",
        "test_images_array = np.array(test_images)"
      ],
      "metadata": {
        "colab": {
          "base_uri": "https://localhost:8080/"
        },
        "id": "r_JjiXsja1Ho",
        "outputId": "b52f4a42-bc53-4a05-d6b5-b320d74817e6"
      },
      "execution_count": null,
      "outputs": [
        {
          "output_type": "stream",
          "name": "stdout",
          "text": [
            "images 0\n"
          ]
        },
        {
          "output_type": "stream",
          "name": "stderr",
          "text": [
            "/usr/local/lib/python3.10/dist-packages/skimage/transform/radon_transform.py:75: UserWarning: Radon transform: image must be zero outside the reconstruction circle\n",
            "  warn('Radon transform: image must be zero outside the '\n"
          ]
        },
        {
          "output_type": "stream",
          "name": "stdout",
          "text": [
            "images 10\n",
            "images 20\n"
          ]
        }
      ]
    },
    {
      "cell_type": "markdown",
      "source": [
        "# Lưu vào file"
      ],
      "metadata": {
        "id": "zKNrGNxk9bnM"
      }
    },
    {
      "cell_type": "code",
      "execution_count": null,
      "metadata": {
        "id": "Y2oQGLuuGE5X"
      },
      "outputs": [],
      "source": [
        "import pandas as pd\n",
        "\n",
        "def createFile(your_array,name):\n",
        "  # Tạo một DataFrame từ mảng 2D\n",
        "  df = pd.DataFrame(your_array)\n",
        "  # Đặt tên cho tệp Excel và đường dẫn\n",
        "  excel_filename = f'{name}.xlsx'\n",
        "  # Lưu DataFrame vào tệp Excel\n",
        "  df.to_excel(excel_filename, index=False)\n",
        "  print(f'Dữ liệu đã được lưu vào tệp {excel_filename}')"
      ]
    },
    {
      "cell_type": "code",
      "execution_count": null,
      "metadata": {
        "colab": {
          "base_uri": "https://localhost:8080/"
        },
        "id": "Q2RXZ4SNGYye",
        "outputId": "cc0d6bfe-251a-4ee2-f75b-8e9a4d8b18c4"
      },
      "outputs": [
        {
          "name": "stdout",
          "output_type": "stream",
          "text": [
            "(400, 256, 256)\n",
            "(400, 256, 256)\n"
          ]
        }
      ],
      "source": [
        "sinograms_array = np.array(sinograms)\n",
        "print(sinograms_array.shape)\n",
        "images_array = np.array(images)\n",
        "print(images_array.shape)"
      ]
    },
    {
      "cell_type": "code",
      "execution_count": null,
      "metadata": {
        "colab": {
          "base_uri": "https://localhost:8080/"
        },
        "id": "-ef8XL5NI53W",
        "outputId": "41eab458-9520-4928-bbd5-42a21e0f70f8"
      },
      "outputs": [
        {
          "name": "stdout",
          "output_type": "stream",
          "text": [
            "(65536, 400)\n",
            "(65536, 400)\n"
          ]
        }
      ],
      "source": [
        "# Chuyển mảng 3D thành mảng 2D (shape=(400, 65536))\n",
        "sinograms_2d_array = sinograms_array.reshape((sinograms_array.shape[0], -1)).T\n",
        "print(sinograms_2d_array.shape)\n",
        "images_2d_array = images_array.reshape((images_array.shape[0], -1)).T\n",
        "print(images_2d_array.shape)"
      ]
    },
    {
      "cell_type": "code",
      "execution_count": null,
      "metadata": {
        "colab": {
          "background_save": true
        },
        "id": "DD78g_CqNjvS",
        "outputId": "0bc6621c-cc30-4a88-dedb-f2913acc8013"
      },
      "outputs": [
        {
          "name": "stdout",
          "output_type": "stream",
          "text": [
            "Dữ liệu đã được lưu vào tệp images_2d_array.xlsx\n"
          ]
        }
      ],
      "source": [
        "createFile(images_2d_array,\"images_2d_array\")"
      ]
    },
    {
      "cell_type": "code",
      "source": [
        "import pandas as pd\n",
        "\n",
        "# Thay đổi đường dẫn tới tệp Excel của bạn\n",
        "file_path = './sinograms_2d_array.xlsx'\n",
        "\n",
        "# Đọc dữ liệu từ tệp Excel vào một DataFrame\n",
        "sinograms_2d_array = pd.read_excel(file_path)\n",
        "\n",
        "# Hiển thị một số dòng đầu của DataFrame\n",
        "print(sinograms_2d_array.head())\n",
        "\n"
      ],
      "metadata": {
        "colab": {
          "base_uri": "https://localhost:8080/"
        },
        "id": "A69XLSM9-D3P",
        "outputId": "21caad2d-ea48-486e-d704-662f66c73f5d"
      },
      "execution_count": null,
      "outputs": [
        {
          "output_type": "stream",
          "name": "stdout",
          "text": [
            "   0    1    2    3    4    5    6    7    8    9    ...  390  391       392  \\\n",
            "0  0.0  0.0  0.0  0.0  0.0  0.0  0.0  0.0  0.0  0.0  ...  0.0  0.0  0.435294   \n",
            "1  0.0  0.0  0.0  0.0  0.0  0.0  0.0  0.0  0.0  0.0  ...  0.0  0.0  0.089209   \n",
            "2  0.0  0.0  0.0  0.0  0.0  0.0  0.0  0.0  0.0  0.0  ...  0.0  0.0  0.000000   \n",
            "3  0.0  0.0  0.0  0.0  0.0  0.0  0.0  0.0  0.0  0.0  ...  0.0  0.0  0.000000   \n",
            "4  0.0  0.0  0.0  0.0  0.0  0.0  0.0  0.0  0.0  0.0  ...  0.0  0.0  0.000000   \n",
            "\n",
            "   393  394  395  396  397  398  399  \n",
            "0  0.0  0.0  0.0  0.0  0.0  0.0  0.0  \n",
            "1  0.0  0.0  0.0  0.0  0.0  0.0  0.0  \n",
            "2  0.0  0.0  0.0  0.0  0.0  0.0  0.0  \n",
            "3  0.0  0.0  0.0  0.0  0.0  0.0  0.0  \n",
            "4  0.0  0.0  0.0  0.0  0.0  0.0  0.0  \n",
            "\n",
            "[5 rows x 400 columns]\n"
          ]
        }
      ]
    },
    {
      "cell_type": "code",
      "source": [
        "import pandas as pd\n",
        "\n",
        "# Thay đổi đường dẫn tới tệp Excel của bạn\n",
        "file_path = './images_2d_array.xlsx'\n",
        "\n",
        "# Đọc dữ liệu từ tệp Excel vào một DataFrame\n",
        "images_2d_array = pd.read_excel(file_path)\n",
        "\n",
        "# Hiển thị một số dòng đầu của DataFrame\n",
        "print(images_2d_array.head())"
      ],
      "metadata": {
        "colab": {
          "base_uri": "https://localhost:8080/"
        },
        "id": "cal78ouGBZ9c",
        "outputId": "4e9e585f-7af8-45a9-8fbe-978763910c2c"
      },
      "execution_count": null,
      "outputs": [
        {
          "output_type": "stream",
          "name": "stdout",
          "text": [
            "   0    1    2    3    4    5    6    7    8    9    ...  390  391  392  393  \\\n",
            "0  0.0  0.0  0.0  0.0  0.0  0.0  0.0  0.0  0.0  0.0  ...  0.0  0.0  0.0  0.0   \n",
            "1  0.0  0.0  0.0  0.0  0.0  0.0  0.0  0.0  0.0  0.0  ...  0.0  0.0  0.0  0.0   \n",
            "2  0.0  0.0  0.0  0.0  0.0  0.0  0.0  0.0  0.0  0.0  ...  0.0  0.0  0.0  0.0   \n",
            "3  0.0  0.0  0.0  0.0  0.0  0.0  0.0  0.0  0.0  0.0  ...  0.0  0.0  0.0  0.0   \n",
            "4  0.0  0.0  0.0  0.0  0.0  0.0  0.0  0.0  0.0  0.0  ...  0.0  0.0  0.0  0.0   \n",
            "\n",
            "   394  395  396  397  398  399  \n",
            "0  0.0  0.0  0.0  0.0  0.0  0.0  \n",
            "1  0.0  0.0  0.0  0.0  0.0  0.0  \n",
            "2  0.0  0.0  0.0  0.0  0.0  0.0  \n",
            "3  0.0  0.0  0.0  0.0  0.0  0.0  \n",
            "4  0.0  0.0  0.0  0.0  0.0  0.0  \n",
            "\n",
            "[5 rows x 400 columns]\n"
          ]
        }
      ]
    },
    {
      "cell_type": "code",
      "source": [
        "images_2d_array"
      ],
      "metadata": {
        "colab": {
          "base_uri": "https://localhost:8080/",
          "height": 423
        },
        "id": "gHmu7BhdDhGi",
        "outputId": "ffa4ff8e-fb00-4701-98c7-851de5d5ff96"
      },
      "execution_count": null,
      "outputs": [
        {
          "output_type": "execute_result",
          "data": {
            "text/plain": [
              "       0    1    2    3    4    5    6    7    8    9    ...  390  391  392  \\\n",
              "0      0.0  0.0  0.0  0.0  0.0  0.0  0.0  0.0  0.0  0.0  ...  0.0  0.0  0.0   \n",
              "1      0.0  0.0  0.0  0.0  0.0  0.0  0.0  0.0  0.0  0.0  ...  0.0  0.0  0.0   \n",
              "2      0.0  0.0  0.0  0.0  0.0  0.0  0.0  0.0  0.0  0.0  ...  0.0  0.0  0.0   \n",
              "3      0.0  0.0  0.0  0.0  0.0  0.0  0.0  0.0  0.0  0.0  ...  0.0  0.0  0.0   \n",
              "4      0.0  0.0  0.0  0.0  0.0  0.0  0.0  0.0  0.0  0.0  ...  0.0  0.0  0.0   \n",
              "...    ...  ...  ...  ...  ...  ...  ...  ...  ...  ...  ...  ...  ...  ...   \n",
              "65531  0.0  0.0  0.0  0.0  0.0  0.0  0.0  0.0  0.0  0.0  ...  0.0  0.0  0.0   \n",
              "65532  0.0  0.0  0.0  0.0  0.0  0.0  0.0  0.0  0.0  0.0  ...  0.0  0.0  0.0   \n",
              "65533  0.0  0.0  0.0  0.0  0.0  0.0  0.0  0.0  0.0  0.0  ...  0.0  0.0  0.0   \n",
              "65534  0.0  0.0  0.0  0.0  0.0  0.0  0.0  0.0  0.0  0.0  ...  0.0  0.0  0.0   \n",
              "65535  0.0  0.0  0.0  0.0  0.0  0.0  0.0  0.0  0.0  0.0  ...  0.0  0.0  0.0   \n",
              "\n",
              "       393  394  395  396  397  398  399  \n",
              "0      0.0  0.0  0.0  0.0  0.0  0.0  0.0  \n",
              "1      0.0  0.0  0.0  0.0  0.0  0.0  0.0  \n",
              "2      0.0  0.0  0.0  0.0  0.0  0.0  0.0  \n",
              "3      0.0  0.0  0.0  0.0  0.0  0.0  0.0  \n",
              "4      0.0  0.0  0.0  0.0  0.0  0.0  0.0  \n",
              "...    ...  ...  ...  ...  ...  ...  ...  \n",
              "65531  0.0  0.0  0.0  0.0  0.0  0.0  0.0  \n",
              "65532  0.0  0.0  0.0  0.0  0.0  0.0  0.0  \n",
              "65533  0.0  0.0  0.0  0.0  0.0  0.0  0.0  \n",
              "65534  0.0  0.0  0.0  0.0  0.0  0.0  0.0  \n",
              "65535  0.0  0.0  0.0  0.0  0.0  0.0  0.0  \n",
              "\n",
              "[65536 rows x 400 columns]"
            ],
            "text/html": [
              "\n",
              "  <div id=\"df-2ae2dfe8-2a0d-497d-8020-8e9ef453ffed\" class=\"colab-df-container\">\n",
              "    <div>\n",
              "<style scoped>\n",
              "    .dataframe tbody tr th:only-of-type {\n",
              "        vertical-align: middle;\n",
              "    }\n",
              "\n",
              "    .dataframe tbody tr th {\n",
              "        vertical-align: top;\n",
              "    }\n",
              "\n",
              "    .dataframe thead th {\n",
              "        text-align: right;\n",
              "    }\n",
              "</style>\n",
              "<table border=\"1\" class=\"dataframe\">\n",
              "  <thead>\n",
              "    <tr style=\"text-align: right;\">\n",
              "      <th></th>\n",
              "      <th>0</th>\n",
              "      <th>1</th>\n",
              "      <th>2</th>\n",
              "      <th>3</th>\n",
              "      <th>4</th>\n",
              "      <th>5</th>\n",
              "      <th>6</th>\n",
              "      <th>7</th>\n",
              "      <th>8</th>\n",
              "      <th>9</th>\n",
              "      <th>...</th>\n",
              "      <th>390</th>\n",
              "      <th>391</th>\n",
              "      <th>392</th>\n",
              "      <th>393</th>\n",
              "      <th>394</th>\n",
              "      <th>395</th>\n",
              "      <th>396</th>\n",
              "      <th>397</th>\n",
              "      <th>398</th>\n",
              "      <th>399</th>\n",
              "    </tr>\n",
              "  </thead>\n",
              "  <tbody>\n",
              "    <tr>\n",
              "      <th>0</th>\n",
              "      <td>0.0</td>\n",
              "      <td>0.0</td>\n",
              "      <td>0.0</td>\n",
              "      <td>0.0</td>\n",
              "      <td>0.0</td>\n",
              "      <td>0.0</td>\n",
              "      <td>0.0</td>\n",
              "      <td>0.0</td>\n",
              "      <td>0.0</td>\n",
              "      <td>0.0</td>\n",
              "      <td>...</td>\n",
              "      <td>0.0</td>\n",
              "      <td>0.0</td>\n",
              "      <td>0.0</td>\n",
              "      <td>0.0</td>\n",
              "      <td>0.0</td>\n",
              "      <td>0.0</td>\n",
              "      <td>0.0</td>\n",
              "      <td>0.0</td>\n",
              "      <td>0.0</td>\n",
              "      <td>0.0</td>\n",
              "    </tr>\n",
              "    <tr>\n",
              "      <th>1</th>\n",
              "      <td>0.0</td>\n",
              "      <td>0.0</td>\n",
              "      <td>0.0</td>\n",
              "      <td>0.0</td>\n",
              "      <td>0.0</td>\n",
              "      <td>0.0</td>\n",
              "      <td>0.0</td>\n",
              "      <td>0.0</td>\n",
              "      <td>0.0</td>\n",
              "      <td>0.0</td>\n",
              "      <td>...</td>\n",
              "      <td>0.0</td>\n",
              "      <td>0.0</td>\n",
              "      <td>0.0</td>\n",
              "      <td>0.0</td>\n",
              "      <td>0.0</td>\n",
              "      <td>0.0</td>\n",
              "      <td>0.0</td>\n",
              "      <td>0.0</td>\n",
              "      <td>0.0</td>\n",
              "      <td>0.0</td>\n",
              "    </tr>\n",
              "    <tr>\n",
              "      <th>2</th>\n",
              "      <td>0.0</td>\n",
              "      <td>0.0</td>\n",
              "      <td>0.0</td>\n",
              "      <td>0.0</td>\n",
              "      <td>0.0</td>\n",
              "      <td>0.0</td>\n",
              "      <td>0.0</td>\n",
              "      <td>0.0</td>\n",
              "      <td>0.0</td>\n",
              "      <td>0.0</td>\n",
              "      <td>...</td>\n",
              "      <td>0.0</td>\n",
              "      <td>0.0</td>\n",
              "      <td>0.0</td>\n",
              "      <td>0.0</td>\n",
              "      <td>0.0</td>\n",
              "      <td>0.0</td>\n",
              "      <td>0.0</td>\n",
              "      <td>0.0</td>\n",
              "      <td>0.0</td>\n",
              "      <td>0.0</td>\n",
              "    </tr>\n",
              "    <tr>\n",
              "      <th>3</th>\n",
              "      <td>0.0</td>\n",
              "      <td>0.0</td>\n",
              "      <td>0.0</td>\n",
              "      <td>0.0</td>\n",
              "      <td>0.0</td>\n",
              "      <td>0.0</td>\n",
              "      <td>0.0</td>\n",
              "      <td>0.0</td>\n",
              "      <td>0.0</td>\n",
              "      <td>0.0</td>\n",
              "      <td>...</td>\n",
              "      <td>0.0</td>\n",
              "      <td>0.0</td>\n",
              "      <td>0.0</td>\n",
              "      <td>0.0</td>\n",
              "      <td>0.0</td>\n",
              "      <td>0.0</td>\n",
              "      <td>0.0</td>\n",
              "      <td>0.0</td>\n",
              "      <td>0.0</td>\n",
              "      <td>0.0</td>\n",
              "    </tr>\n",
              "    <tr>\n",
              "      <th>4</th>\n",
              "      <td>0.0</td>\n",
              "      <td>0.0</td>\n",
              "      <td>0.0</td>\n",
              "      <td>0.0</td>\n",
              "      <td>0.0</td>\n",
              "      <td>0.0</td>\n",
              "      <td>0.0</td>\n",
              "      <td>0.0</td>\n",
              "      <td>0.0</td>\n",
              "      <td>0.0</td>\n",
              "      <td>...</td>\n",
              "      <td>0.0</td>\n",
              "      <td>0.0</td>\n",
              "      <td>0.0</td>\n",
              "      <td>0.0</td>\n",
              "      <td>0.0</td>\n",
              "      <td>0.0</td>\n",
              "      <td>0.0</td>\n",
              "      <td>0.0</td>\n",
              "      <td>0.0</td>\n",
              "      <td>0.0</td>\n",
              "    </tr>\n",
              "    <tr>\n",
              "      <th>...</th>\n",
              "      <td>...</td>\n",
              "      <td>...</td>\n",
              "      <td>...</td>\n",
              "      <td>...</td>\n",
              "      <td>...</td>\n",
              "      <td>...</td>\n",
              "      <td>...</td>\n",
              "      <td>...</td>\n",
              "      <td>...</td>\n",
              "      <td>...</td>\n",
              "      <td>...</td>\n",
              "      <td>...</td>\n",
              "      <td>...</td>\n",
              "      <td>...</td>\n",
              "      <td>...</td>\n",
              "      <td>...</td>\n",
              "      <td>...</td>\n",
              "      <td>...</td>\n",
              "      <td>...</td>\n",
              "      <td>...</td>\n",
              "      <td>...</td>\n",
              "    </tr>\n",
              "    <tr>\n",
              "      <th>65531</th>\n",
              "      <td>0.0</td>\n",
              "      <td>0.0</td>\n",
              "      <td>0.0</td>\n",
              "      <td>0.0</td>\n",
              "      <td>0.0</td>\n",
              "      <td>0.0</td>\n",
              "      <td>0.0</td>\n",
              "      <td>0.0</td>\n",
              "      <td>0.0</td>\n",
              "      <td>0.0</td>\n",
              "      <td>...</td>\n",
              "      <td>0.0</td>\n",
              "      <td>0.0</td>\n",
              "      <td>0.0</td>\n",
              "      <td>0.0</td>\n",
              "      <td>0.0</td>\n",
              "      <td>0.0</td>\n",
              "      <td>0.0</td>\n",
              "      <td>0.0</td>\n",
              "      <td>0.0</td>\n",
              "      <td>0.0</td>\n",
              "    </tr>\n",
              "    <tr>\n",
              "      <th>65532</th>\n",
              "      <td>0.0</td>\n",
              "      <td>0.0</td>\n",
              "      <td>0.0</td>\n",
              "      <td>0.0</td>\n",
              "      <td>0.0</td>\n",
              "      <td>0.0</td>\n",
              "      <td>0.0</td>\n",
              "      <td>0.0</td>\n",
              "      <td>0.0</td>\n",
              "      <td>0.0</td>\n",
              "      <td>...</td>\n",
              "      <td>0.0</td>\n",
              "      <td>0.0</td>\n",
              "      <td>0.0</td>\n",
              "      <td>0.0</td>\n",
              "      <td>0.0</td>\n",
              "      <td>0.0</td>\n",
              "      <td>0.0</td>\n",
              "      <td>0.0</td>\n",
              "      <td>0.0</td>\n",
              "      <td>0.0</td>\n",
              "    </tr>\n",
              "    <tr>\n",
              "      <th>65533</th>\n",
              "      <td>0.0</td>\n",
              "      <td>0.0</td>\n",
              "      <td>0.0</td>\n",
              "      <td>0.0</td>\n",
              "      <td>0.0</td>\n",
              "      <td>0.0</td>\n",
              "      <td>0.0</td>\n",
              "      <td>0.0</td>\n",
              "      <td>0.0</td>\n",
              "      <td>0.0</td>\n",
              "      <td>...</td>\n",
              "      <td>0.0</td>\n",
              "      <td>0.0</td>\n",
              "      <td>0.0</td>\n",
              "      <td>0.0</td>\n",
              "      <td>0.0</td>\n",
              "      <td>0.0</td>\n",
              "      <td>0.0</td>\n",
              "      <td>0.0</td>\n",
              "      <td>0.0</td>\n",
              "      <td>0.0</td>\n",
              "    </tr>\n",
              "    <tr>\n",
              "      <th>65534</th>\n",
              "      <td>0.0</td>\n",
              "      <td>0.0</td>\n",
              "      <td>0.0</td>\n",
              "      <td>0.0</td>\n",
              "      <td>0.0</td>\n",
              "      <td>0.0</td>\n",
              "      <td>0.0</td>\n",
              "      <td>0.0</td>\n",
              "      <td>0.0</td>\n",
              "      <td>0.0</td>\n",
              "      <td>...</td>\n",
              "      <td>0.0</td>\n",
              "      <td>0.0</td>\n",
              "      <td>0.0</td>\n",
              "      <td>0.0</td>\n",
              "      <td>0.0</td>\n",
              "      <td>0.0</td>\n",
              "      <td>0.0</td>\n",
              "      <td>0.0</td>\n",
              "      <td>0.0</td>\n",
              "      <td>0.0</td>\n",
              "    </tr>\n",
              "    <tr>\n",
              "      <th>65535</th>\n",
              "      <td>0.0</td>\n",
              "      <td>0.0</td>\n",
              "      <td>0.0</td>\n",
              "      <td>0.0</td>\n",
              "      <td>0.0</td>\n",
              "      <td>0.0</td>\n",
              "      <td>0.0</td>\n",
              "      <td>0.0</td>\n",
              "      <td>0.0</td>\n",
              "      <td>0.0</td>\n",
              "      <td>...</td>\n",
              "      <td>0.0</td>\n",
              "      <td>0.0</td>\n",
              "      <td>0.0</td>\n",
              "      <td>0.0</td>\n",
              "      <td>0.0</td>\n",
              "      <td>0.0</td>\n",
              "      <td>0.0</td>\n",
              "      <td>0.0</td>\n",
              "      <td>0.0</td>\n",
              "      <td>0.0</td>\n",
              "    </tr>\n",
              "  </tbody>\n",
              "</table>\n",
              "<p>65536 rows × 400 columns</p>\n",
              "</div>\n",
              "    <div class=\"colab-df-buttons\">\n",
              "\n",
              "  <div class=\"colab-df-container\">\n",
              "    <button class=\"colab-df-convert\" onclick=\"convertToInteractive('df-2ae2dfe8-2a0d-497d-8020-8e9ef453ffed')\"\n",
              "            title=\"Convert this dataframe to an interactive table.\"\n",
              "            style=\"display:none;\">\n",
              "\n",
              "  <svg xmlns=\"http://www.w3.org/2000/svg\" height=\"24px\" viewBox=\"0 -960 960 960\">\n",
              "    <path d=\"M120-120v-720h720v720H120Zm60-500h600v-160H180v160Zm220 220h160v-160H400v160Zm0 220h160v-160H400v160ZM180-400h160v-160H180v160Zm440 0h160v-160H620v160ZM180-180h160v-160H180v160Zm440 0h160v-160H620v160Z\"/>\n",
              "  </svg>\n",
              "    </button>\n",
              "\n",
              "  <style>\n",
              "    .colab-df-container {\n",
              "      display:flex;\n",
              "      gap: 12px;\n",
              "    }\n",
              "\n",
              "    .colab-df-convert {\n",
              "      background-color: #E8F0FE;\n",
              "      border: none;\n",
              "      border-radius: 50%;\n",
              "      cursor: pointer;\n",
              "      display: none;\n",
              "      fill: #1967D2;\n",
              "      height: 32px;\n",
              "      padding: 0 0 0 0;\n",
              "      width: 32px;\n",
              "    }\n",
              "\n",
              "    .colab-df-convert:hover {\n",
              "      background-color: #E2EBFA;\n",
              "      box-shadow: 0px 1px 2px rgba(60, 64, 67, 0.3), 0px 1px 3px 1px rgba(60, 64, 67, 0.15);\n",
              "      fill: #174EA6;\n",
              "    }\n",
              "\n",
              "    .colab-df-buttons div {\n",
              "      margin-bottom: 4px;\n",
              "    }\n",
              "\n",
              "    [theme=dark] .colab-df-convert {\n",
              "      background-color: #3B4455;\n",
              "      fill: #D2E3FC;\n",
              "    }\n",
              "\n",
              "    [theme=dark] .colab-df-convert:hover {\n",
              "      background-color: #434B5C;\n",
              "      box-shadow: 0px 1px 3px 1px rgba(0, 0, 0, 0.15);\n",
              "      filter: drop-shadow(0px 1px 2px rgba(0, 0, 0, 0.3));\n",
              "      fill: #FFFFFF;\n",
              "    }\n",
              "  </style>\n",
              "\n",
              "    <script>\n",
              "      const buttonEl =\n",
              "        document.querySelector('#df-2ae2dfe8-2a0d-497d-8020-8e9ef453ffed button.colab-df-convert');\n",
              "      buttonEl.style.display =\n",
              "        google.colab.kernel.accessAllowed ? 'block' : 'none';\n",
              "\n",
              "      async function convertToInteractive(key) {\n",
              "        const element = document.querySelector('#df-2ae2dfe8-2a0d-497d-8020-8e9ef453ffed');\n",
              "        const dataTable =\n",
              "          await google.colab.kernel.invokeFunction('convertToInteractive',\n",
              "                                                    [key], {});\n",
              "        if (!dataTable) return;\n",
              "\n",
              "        const docLinkHtml = 'Like what you see? Visit the ' +\n",
              "          '<a target=\"_blank\" href=https://colab.research.google.com/notebooks/data_table.ipynb>data table notebook</a>'\n",
              "          + ' to learn more about interactive tables.';\n",
              "        element.innerHTML = '';\n",
              "        dataTable['output_type'] = 'display_data';\n",
              "        await google.colab.output.renderOutput(dataTable, element);\n",
              "        const docLink = document.createElement('div');\n",
              "        docLink.innerHTML = docLinkHtml;\n",
              "        element.appendChild(docLink);\n",
              "      }\n",
              "    </script>\n",
              "  </div>\n",
              "\n",
              "\n",
              "<div id=\"df-fb7c6324-eb39-4dbd-9248-73c85b309697\">\n",
              "  <button class=\"colab-df-quickchart\" onclick=\"quickchart('df-fb7c6324-eb39-4dbd-9248-73c85b309697')\"\n",
              "            title=\"Suggest charts.\"\n",
              "            style=\"display:none;\">\n",
              "\n",
              "<svg xmlns=\"http://www.w3.org/2000/svg\" height=\"24px\"viewBox=\"0 0 24 24\"\n",
              "     width=\"24px\">\n",
              "    <g>\n",
              "        <path d=\"M19 3H5c-1.1 0-2 .9-2 2v14c0 1.1.9 2 2 2h14c1.1 0 2-.9 2-2V5c0-1.1-.9-2-2-2zM9 17H7v-7h2v7zm4 0h-2V7h2v10zm4 0h-2v-4h2v4z\"/>\n",
              "    </g>\n",
              "</svg>\n",
              "  </button>\n",
              "\n",
              "<style>\n",
              "  .colab-df-quickchart {\n",
              "      --bg-color: #E8F0FE;\n",
              "      --fill-color: #1967D2;\n",
              "      --hover-bg-color: #E2EBFA;\n",
              "      --hover-fill-color: #174EA6;\n",
              "      --disabled-fill-color: #AAA;\n",
              "      --disabled-bg-color: #DDD;\n",
              "  }\n",
              "\n",
              "  [theme=dark] .colab-df-quickchart {\n",
              "      --bg-color: #3B4455;\n",
              "      --fill-color: #D2E3FC;\n",
              "      --hover-bg-color: #434B5C;\n",
              "      --hover-fill-color: #FFFFFF;\n",
              "      --disabled-bg-color: #3B4455;\n",
              "      --disabled-fill-color: #666;\n",
              "  }\n",
              "\n",
              "  .colab-df-quickchart {\n",
              "    background-color: var(--bg-color);\n",
              "    border: none;\n",
              "    border-radius: 50%;\n",
              "    cursor: pointer;\n",
              "    display: none;\n",
              "    fill: var(--fill-color);\n",
              "    height: 32px;\n",
              "    padding: 0;\n",
              "    width: 32px;\n",
              "  }\n",
              "\n",
              "  .colab-df-quickchart:hover {\n",
              "    background-color: var(--hover-bg-color);\n",
              "    box-shadow: 0 1px 2px rgba(60, 64, 67, 0.3), 0 1px 3px 1px rgba(60, 64, 67, 0.15);\n",
              "    fill: var(--button-hover-fill-color);\n",
              "  }\n",
              "\n",
              "  .colab-df-quickchart-complete:disabled,\n",
              "  .colab-df-quickchart-complete:disabled:hover {\n",
              "    background-color: var(--disabled-bg-color);\n",
              "    fill: var(--disabled-fill-color);\n",
              "    box-shadow: none;\n",
              "  }\n",
              "\n",
              "  .colab-df-spinner {\n",
              "    border: 2px solid var(--fill-color);\n",
              "    border-color: transparent;\n",
              "    border-bottom-color: var(--fill-color);\n",
              "    animation:\n",
              "      spin 1s steps(1) infinite;\n",
              "  }\n",
              "\n",
              "  @keyframes spin {\n",
              "    0% {\n",
              "      border-color: transparent;\n",
              "      border-bottom-color: var(--fill-color);\n",
              "      border-left-color: var(--fill-color);\n",
              "    }\n",
              "    20% {\n",
              "      border-color: transparent;\n",
              "      border-left-color: var(--fill-color);\n",
              "      border-top-color: var(--fill-color);\n",
              "    }\n",
              "    30% {\n",
              "      border-color: transparent;\n",
              "      border-left-color: var(--fill-color);\n",
              "      border-top-color: var(--fill-color);\n",
              "      border-right-color: var(--fill-color);\n",
              "    }\n",
              "    40% {\n",
              "      border-color: transparent;\n",
              "      border-right-color: var(--fill-color);\n",
              "      border-top-color: var(--fill-color);\n",
              "    }\n",
              "    60% {\n",
              "      border-color: transparent;\n",
              "      border-right-color: var(--fill-color);\n",
              "    }\n",
              "    80% {\n",
              "      border-color: transparent;\n",
              "      border-right-color: var(--fill-color);\n",
              "      border-bottom-color: var(--fill-color);\n",
              "    }\n",
              "    90% {\n",
              "      border-color: transparent;\n",
              "      border-bottom-color: var(--fill-color);\n",
              "    }\n",
              "  }\n",
              "</style>\n",
              "\n",
              "  <script>\n",
              "    async function quickchart(key) {\n",
              "      const quickchartButtonEl =\n",
              "        document.querySelector('#' + key + ' button');\n",
              "      quickchartButtonEl.disabled = true;  // To prevent multiple clicks.\n",
              "      quickchartButtonEl.classList.add('colab-df-spinner');\n",
              "      try {\n",
              "        const charts = await google.colab.kernel.invokeFunction(\n",
              "            'suggestCharts', [key], {});\n",
              "      } catch (error) {\n",
              "        console.error('Error during call to suggestCharts:', error);\n",
              "      }\n",
              "      quickchartButtonEl.classList.remove('colab-df-spinner');\n",
              "      quickchartButtonEl.classList.add('colab-df-quickchart-complete');\n",
              "    }\n",
              "    (() => {\n",
              "      let quickchartButtonEl =\n",
              "        document.querySelector('#df-fb7c6324-eb39-4dbd-9248-73c85b309697 button');\n",
              "      quickchartButtonEl.style.display =\n",
              "        google.colab.kernel.accessAllowed ? 'block' : 'none';\n",
              "    })();\n",
              "  </script>\n",
              "</div>\n",
              "    </div>\n",
              "  </div>\n"
            ]
          },
          "metadata": {},
          "execution_count": 8
        }
      ]
    },
    {
      "cell_type": "markdown",
      "source": [
        "# Hàm plot"
      ],
      "metadata": {
        "id": "wUca5FY59nti"
      }
    },
    {
      "cell_type": "code",
      "execution_count": null,
      "metadata": {
        "id": "w_XbpgTGNCpu"
      },
      "outputs": [],
      "source": [
        "import matplotlib.pyplot as plt\n",
        "def plot(img,title='title',x_name = 'x_name',y_name = 'y_name'):\n",
        "  plt.imshow(img, cmap='gray')\n",
        "  plt.xlabel(x_name)\n",
        "  plt.ylabel(y_name)\n",
        "  plt.title(title)\n",
        "  plt.show()"
      ]
    },
    {
      "cell_type": "code",
      "execution_count": null,
      "metadata": {
        "colab": {
          "base_uri": "https://localhost:8080/"
        },
        "id": "3rtcS8vLEDb4",
        "outputId": "25037c13-5817-4f68-ff40-a3245d5728fc"
      },
      "outputs": [
        {
          "output_type": "display_data",
          "data": {
            "text/plain": [
              "<Figure size 640x480 with 1 Axes>"
            ],
            "image/png": "[encoded data removed]"
          },
          "metadata": {}
        },
        {
          "output_type": "display_data",
          "data": {
            "text/plain": [
              "<Figure size 640x480 with 1 Axes>"
            ],
            "image/png": "[encoded data removed]"
          },
          "metadata": {}
        }
      ],
      "source": [
        "plt.imshow(sinograms_array[2], cmap='gray')\n",
        "plt.title(\"Sinogram of Image 2\")\n",
        "plt.show()\n",
        "plt.imshow(images_array[2], cmap='gray')\n",
        "plt.title(\"Image 2\")\n",
        "plt.show()"
      ]
    },
    {
      "cell_type": "markdown",
      "source": [
        "# Model CNN"
      ],
      "metadata": {
        "id": "3rlQY06ZHoPC"
      }
    },
    {
      "cell_type": "code",
      "source": [
        "import tensorflow as tf\n",
        "from tensorflow import keras\n",
        "from tensorflow.keras import layers"
      ],
      "metadata": {
        "id": "SWAa3bd2HfGe"
      },
      "execution_count": null,
      "outputs": []
    },
    {
      "cell_type": "code",
      "source": [
        "# Đọc dữ liệu train và test (cần tải dữ liệu của bạn vào đây)\n",
        "x_train = sinograms_array\n",
        "y_train = images_array\n",
        "x_test = test_sinograms_array\n",
        "y_test = test_images_array\n",
        "\n",
        "input_shape = x_train.shape[1:]\n",
        "print('input_shape : ', input_shape)\n",
        "\n",
        "max_value = np.max(x_train)\n",
        "# mormalize data\n",
        "x_train = x_train.astype('float32') / 255\n",
        "x_test = x_test.astype('float32') / 255\n",
        "\n",
        "print('x_train shape:', x_train.shape)\n",
        "print(x_train.shape[0], 'train samples')\n",
        "print(x_test.shape[0], 'test samples')\n",
        "print('y_train shape:', y_train.shape)\n",
        "\n"
      ],
      "metadata": {
        "colab": {
          "base_uri": "https://localhost:8080/"
        },
        "id": "6d8E-cvOieHa",
        "outputId": "1bb08572-7e0b-4bc6-d5e2-1a9f630da258"
      },
      "execution_count": 37,
      "outputs": [
        {
          "output_type": "stream",
          "name": "stdout",
          "text": [
            "input_shape :  (256, 256)\n",
            "x_train shape: (400, 256, 256)\n",
            "400 train samples\n",
            "30 test samples\n",
            "y_train shape: (400, 256, 256)\n"
          ]
        }
      ]
    },
    {
      "cell_type": "code",
      "source": [
        "model = keras.Sequential([\n",
        "    layers.Input(shape=(256, 256, 1)),  # Đầu vào là ảnh 256x256 đơn kênh (xám)\n",
        "    layers.Conv2D(64, (3, 3), activation='relu', padding='same'),\n",
        "    layers.MaxPooling2D((2, 2), padding='same'),\n",
        "    layers.Conv2D(128, (3, 3), activation='relu', padding='same'),\n",
        "    layers.MaxPooling2D((2, 2), padding='same'),\n",
        "    layers.Conv2D(256, (3, 3), activation='relu', padding='same'),\n",
        "    layers.UpSampling2D((2, 2)),\n",
        "    layers.Conv2D(128, (3, 3), activation='relu', padding='same'),\n",
        "    layers.UpSampling2D((2, 2)),\n",
        "    layers.Conv2D(64, (3, 3), activation='relu', padding='same'),\n",
        "    layers.Conv2D(1, (3, 3), activation='sigmoid', padding='same')  # Đầu ra là ảnh tái tạo\n",
        "])\n"
      ],
      "metadata": {
        "id": "9U7n7QuCHhWs"
      },
      "execution_count": null,
      "outputs": []
    },
    {
      "cell_type": "code",
      "source": [
        "model.compile(optimizer='adam', loss='mean_squared_error',metrics=['accuracy'])\n"
      ],
      "metadata": {
        "id": "5NSOkv_CHmpA"
      },
      "execution_count": 29,
      "outputs": []
    },
    {
      "cell_type": "code",
      "source": [
        "model.summary()"
      ],
      "metadata": {
        "colab": {
          "base_uri": "https://localhost:8080/"
        },
        "id": "rjtkGMyqHxtR",
        "outputId": "6ea38f0b-8dae-45bc-df1c-98319340edb9"
      },
      "execution_count": 30,
      "outputs": [
        {
          "output_type": "stream",
          "name": "stdout",
          "text": [
            "Model: \"sequential_1\"\n",
            "_________________________________________________________________\n",
            " Layer (type)                Output Shape              Param #   \n",
            "=================================================================\n",
            " conv2d_6 (Conv2D)           (None, 256, 256, 64)      640       \n",
            "                                                                 \n",
            " max_pooling2d_2 (MaxPoolin  (None, 128, 128, 64)      0         \n",
            " g2D)                                                            \n",
            "                                                                 \n",
            " conv2d_7 (Conv2D)           (None, 128, 128, 128)     73856     \n",
            "                                                                 \n",
            " max_pooling2d_3 (MaxPoolin  (None, 64, 64, 128)       0         \n",
            " g2D)                                                            \n",
            "                                                                 \n",
            " conv2d_8 (Conv2D)           (None, 64, 64, 256)       295168    \n",
            "                                                                 \n",
            " up_sampling2d_2 (UpSamplin  (None, 128, 128, 256)     0         \n",
            " g2D)                                                            \n",
            "                                                                 \n",
            " conv2d_9 (Conv2D)           (None, 128, 128, 128)     295040    \n",
            "                                                                 \n",
            " up_sampling2d_3 (UpSamplin  (None, 256, 256, 128)     0         \n",
            " g2D)                                                            \n",
            "                                                                 \n",
            " conv2d_10 (Conv2D)          (None, 256, 256, 64)      73792     \n",
            "                                                                 \n",
            " conv2d_11 (Conv2D)          (None, 256, 256, 1)       577       \n",
            "                                                                 \n",
            "=================================================================\n",
            "Total params: 739073 (2.82 MB)\n",
            "Trainable params: 739073 (2.82 MB)\n",
            "Non-trainable params: 0 (0.00 Byte)\n",
            "_________________________________________________________________\n"
          ]
        }
      ]
    },
    {
      "cell_type": "code",
      "source": [
        "model.fit(x_train, y_train, epochs=10, batch_size=32, validation_data=(x_test, y_test))\n"
      ],
      "metadata": {
        "colab": {
          "base_uri": "https://localhost:8080/"
        },
        "id": "qm8OXwWDYsZh",
        "outputId": "290999a3-7c37-4651-dae6-ef946f5e8f13"
      },
      "execution_count": null,
      "outputs": [
        {
          "output_type": "stream",
          "name": "stdout",
          "text": [
            "Epoch 1/10\n",
            "13/13 [==============================] - 44s 1s/step - loss: 0.0962 - val_loss: 0.0858\n",
            "Epoch 2/10\n",
            "13/13 [==============================] - 6s 469ms/step - loss: 0.0901 - val_loss: 0.0858\n",
            "Epoch 3/10\n",
            "13/13 [==============================] - 6s 468ms/step - loss: 0.0901 - val_loss: 0.0858\n",
            "Epoch 4/10\n",
            "13/13 [==============================] - 6s 471ms/step - loss: 0.0901 - val_loss: 0.0858\n",
            "Epoch 5/10\n",
            "13/13 [==============================] - 6s 468ms/step - loss: 0.0901 - val_loss: 0.0858\n",
            "Epoch 6/10\n",
            "13/13 [==============================] - 6s 472ms/step - loss: 0.0901 - val_loss: 0.0858\n",
            "Epoch 7/10\n",
            "13/13 [==============================] - 6s 471ms/step - loss: 0.0901 - val_loss: 0.0858\n",
            "Epoch 8/10\n",
            "13/13 [==============================] - 6s 474ms/step - loss: 0.0901 - val_loss: 0.0858\n",
            "Epoch 9/10\n",
            "13/13 [==============================] - 6s 473ms/step - loss: 0.0901 - val_loss: 0.0858\n",
            "Epoch 10/10\n",
            "13/13 [==============================] - 6s 487ms/step - loss: 0.0901 - val_loss: 0.0858\n"
          ]
        },
        {
          "output_type": "execute_result",
          "data": {
            "text/plain": [
              "<keras.src.callbacks.History at 0x78e5287af520>"
            ]
          },
          "metadata": {},
          "execution_count": 27
        }
      ]
    },
    {
      "cell_type": "code",
      "source": [
        "from tensorflow.keras.callbacks import ModelCheckpoint, EarlyStopping\n",
        "import numpy as np\n",
        "model_checkpoint = ModelCheckpoint('best_model.h1', monitor='val_accuracy', save_best_only=True, mode='max')\n",
        "\n",
        "# Callback để dừng huấn luyện khi val_accuracy không cải thiện nữa\n",
        "early_stopping = EarlyStopping(monitor='val_accuracy', patience=5, mode='max')\n",
        "\n",
        "# Huấn luyện mô hình với callbacks\n",
        "history = model.fit(x_train, y_train, epochs=10, validation_data=(x_test, y_test), callbacks=[model_checkpoint, early_stopping])"
      ],
      "metadata": {
        "id": "hBRcS0w9cPvg",
        "colab": {
          "base_uri": "https://localhost:8080/"
        },
        "outputId": "3d9f7c28-0e9e-40b4-b94c-4930500d689e"
      },
      "execution_count": 34,
      "outputs": [
        {
          "output_type": "stream",
          "name": "stdout",
          "text": [
            "Epoch 1/10\n",
            "13/13 [==============================] - 7s 547ms/step - loss: 0.0901 - accuracy: 0.7587 - val_loss: 0.0858 - val_accuracy: 0.7626\n",
            "Epoch 2/10\n",
            "13/13 [==============================] - 6s 466ms/step - loss: 0.0901 - accuracy: 0.7587 - val_loss: 0.0858 - val_accuracy: 0.7626\n",
            "Epoch 3/10\n",
            "13/13 [==============================] - 6s 464ms/step - loss: 0.0901 - accuracy: 0.7587 - val_loss: 0.0858 - val_accuracy: 0.7626\n",
            "Epoch 4/10\n",
            "13/13 [==============================] - 6s 481ms/step - loss: 0.0901 - accuracy: 0.7587 - val_loss: 0.0858 - val_accuracy: 0.7626\n",
            "Epoch 5/10\n",
            "13/13 [==============================] - 6s 466ms/step - loss: 0.0901 - accuracy: 0.7587 - val_loss: 0.0858 - val_accuracy: 0.7626\n",
            "Epoch 6/10\n",
            "13/13 [==============================] - 6s 496ms/step - loss: 0.0901 - accuracy: 0.7587 - val_loss: 0.0858 - val_accuracy: 0.7626\n"
          ]
        }
      ]
    },
    {
      "cell_type": "code",
      "source": [
        "reconstructed_img = model.predict(x_test)"
      ],
      "metadata": {
        "colab": {
          "base_uri": "https://localhost:8080/"
        },
        "id": "HDbCU5tMk1h2",
        "outputId": "5bae245b-c901-4075-b415-862730bb2ae6"
      },
      "execution_count": 39,
      "outputs": [
        {
          "output_type": "stream",
          "name": "stdout",
          "text": [
            "1/1 [==============================] - 0s 155ms/step\n"
          ]
        }
      ]
    },
    {
      "cell_type": "code",
      "source": [
        "reconstructed_img.shape"
      ],
      "metadata": {
        "colab": {
          "base_uri": "https://localhost:8080/"
        },
        "id": "wRKsYE8iphRX",
        "outputId": "6c63a99a-7f6b-4474-bcd3-086cd7f68896"
      },
      "execution_count": 41,
      "outputs": [
        {
          "output_type": "execute_result",
          "data": {
            "text/plain": [
              "(30, 256, 256, 1)"
            ]
          },
          "metadata": {},
          "execution_count": 41
        }
      ]
    },
    {
      "cell_type": "code",
      "source": [
        "plot(reconstructed_img[3])"
      ],
      "metadata": {
        "colab": {
          "base_uri": "https://localhost:8080/",
          "height": 472
        },
        "id": "3DTViDc1plqu",
        "outputId": "c068427a-2095-4124-8827-83773efb7aa3"
      },
      "execution_count": 44,
      "outputs": [
        {
          "output_type": "display_data",
          "data": {
            "text/plain": [
              "<Figure size 640x480 with 1 Axes>"
            ],
            "image/png": "[encoded data removed]"
          },
          "metadata": {}
        }
      ]
    },
    {
      "cell_type": "code",
      "source": [
        "plot(y_test[3])"
      ],
      "metadata": {
        "colab": {
          "base_uri": "https://localhost:8080/",
          "height": 472
        },
        "id": "2OWnIrUDpzkR",
        "outputId": "ab2ef3dc-703e-4aeb-c8b9-20acce032e3c"
      },
      "execution_count": 45,
      "outputs": [
        {
          "output_type": "display_data",
          "data": {
            "text/plain": [
              "<Figure size 640x480 with 1 Axes>"
            ],
            "image/png": "[encoded data removed]"
          },
          "metadata": {}
        }
      ]
    },
    {
      "cell_type": "markdown",
      "source": [
        "# Model DenseNet"
      ],
      "metadata": {
        "id": "mf2QAjwbqRjt"
      }
    },
    {
      "cell_type": "code",
      "source": [
        "from tensorflow.keras.layers import Dense, Conv2D, BatchNormalization\n",
        "from tensorflow.keras.layers import MaxPooling2D, AveragePooling2D\n",
        "from tensorflow.keras.layers import Input, Flatten, Dropout\n",
        "from tensorflow.keras.layers import concatenate, Activation\n",
        "from tensorflow.keras.optimizers import RMSprop\n",
        "from tensorflow.keras.callbacks import ModelCheckpoint, ReduceLROnPlateau\n",
        "from tensorflow.keras.callbacks import LearningRateScheduler\n",
        "from tensorflow.keras.preprocessing.image import ImageDataGenerator\n",
        "from tensorflow.keras.models import Model\n",
        "from tensorflow.keras.datasets import cifar10\n",
        "from tensorflow.keras.utils import plot_model\n",
        "from tensorflow.keras.utils import to_categorical"
      ],
      "metadata": {
        "id": "KZQp74xZqRC-"
      },
      "execution_count": 48,
      "outputs": []
    },
    {
      "cell_type": "code",
      "source": [
        "x_train.shape"
      ],
      "metadata": {
        "colab": {
          "base_uri": "https://localhost:8080/"
        },
        "id": "fovi1rbRybxg",
        "outputId": "b77057da-cb4f-43ae-acce-5592892de562"
      },
      "execution_count": 60,
      "outputs": [
        {
          "output_type": "execute_result",
          "data": {
            "text/plain": [
              "(400, 256, 256)"
            ]
          },
          "metadata": {},
          "execution_count": 60
        }
      ]
    },
    {
      "cell_type": "code",
      "source": [
        "# training parameters\n",
        "batch_size = 32\n",
        "epochs = 20\n",
        "data_augmentation = True\n",
        "\n",
        "# network parameters\n",
        "num_classes = 10\n",
        "num_dense_blocks = 3\n",
        "use_max_pool = False\n",
        "\n",
        "growth_rate = 12\n",
        "depth = 100\n",
        "num_bottleneck_layers = (depth - 4) // (2 * num_dense_blocks)\n",
        "\n",
        "num_filters_bef_dense_block = 2 * growth_rate\n",
        "compression_factor = 0.5\n",
        "\n",
        "\n",
        "input_shape = x_train.shape[1:]\n",
        "\n",
        "# mormalize data\n",
        "x_train = x_train.astype('float32') / 255\n",
        "x_test = x_test.astype('float32') / 255\n",
        "print('x_train shape:', x_train.shape)\n",
        "print(x_train.shape[0], 'train samples')\n",
        "print(x_test.shape[0], 'test samples')\n",
        "print('y_train shape:', y_train.shape)\n",
        "\n",
        "\n",
        "def lr_schedule(epoch):\n",
        "    \"\"\"Learning Rate Schedule\n",
        "\n",
        "    Learning rate is scheduled to be reduced after 80, 120, 160, 180 epochs.\n",
        "    Called automatically every epoch as part of callbacks during training.\n",
        "\n",
        "    # Arguments\n",
        "        epoch (int): The number of epochs\n",
        "\n",
        "    # Returns\n",
        "        lr (float32): learning rate\n",
        "    \"\"\"\n",
        "    lr = 1e-3\n",
        "    if epoch > 180:\n",
        "        lr *= 0.5e-3\n",
        "    elif epoch > 160:\n",
        "        lr *= 1e-3\n",
        "    elif epoch > 120:\n",
        "        lr *= 1e-2\n",
        "    elif epoch > 80:\n",
        "        lr *= 1e-1\n",
        "    print('Learning rate: ', lr)\n",
        "    return lr\n",
        "\n",
        "\n",
        "# start model definition\n",
        "# densenet CNNs (composite function) are made of BN-ReLU-Conv2D\n",
        "inputs = Input(shape=input_shape)\n",
        "x = BatchNormalization()(inputs)\n",
        "x = Activation('relu')(x)\n",
        "x = Conv2D(num_filters_bef_dense_block,\n",
        "           kernel_size=3,\n",
        "           padding='same',\n",
        "           kernel_initializer='he_normal')(x)\n",
        "x = concatenate([inputs, x])\n",
        "\n",
        "# stack of dense blocks bridged by transition layers\n",
        "for i in range(num_dense_blocks):\n",
        "    # a dense block is a stack of bottleneck layers\n",
        "    for j in range(num_bottleneck_layers):\n",
        "        y = BatchNormalization()(x)\n",
        "        y = Activation('relu')(y)\n",
        "        y = Conv2D(4 * growth_rate,\n",
        "                   kernel_size=1,\n",
        "                   padding='same',\n",
        "                   kernel_initializer='he_normal')(y)\n",
        "        if not data_augmentation:\n",
        "            y = Dropout(0.2)(y)\n",
        "        y = BatchNormalization()(y)\n",
        "        y = Activation('relu')(y)\n",
        "        y = Conv2D(growth_rate,\n",
        "                   kernel_size=3,\n",
        "                   padding='same',\n",
        "                   kernel_initializer='he_normal')(y)\n",
        "        if not data_augmentation:\n",
        "            y = Dropout(0.2)(y)\n",
        "        x = concatenate([x, y])\n",
        "\n",
        "    # no transition layer after the last dense block\n",
        "    if i == num_dense_blocks - 1:\n",
        "        continue\n",
        "\n",
        "    # transition layer compresses num of feature maps and reduces the size by 2\n",
        "    num_filters_bef_dense_block += num_bottleneck_layers * growth_rate\n",
        "    num_filters_bef_dense_block = int(num_filters_bef_dense_block * compression_factor)\n",
        "    y = BatchNormalization()(x)\n",
        "    y = Conv2D(num_filters_bef_dense_block,\n",
        "               kernel_size=1,\n",
        "               padding='same',\n",
        "               kernel_initializer='he_normal')(y)\n",
        "    if not data_augmentation:\n",
        "        y = Dropout(0.2)(y)\n",
        "    x = AveragePooling2D()(y)\n",
        "\n",
        "\n",
        "# add classifier on top\n",
        "# after average pooling, size of feature map is 1 x 1\n",
        "x = AveragePooling2D(pool_size=8)(x)\n",
        "y = Flatten()(x)\n",
        "\n",
        "\n",
        "outputs = Conv2D(1, kernel_size=3, padding='same', activation='linear')(x)\n",
        "modelDense = Model(inputs=inputs, outputs=outputs)\n",
        "modelDense.compile(loss='mean_squared_error',\n",
        "              optimizer=RMSprop(1e-3),\n",
        "              metrics=['acc'])\n",
        "modelDense.summary()"
      ],
      "metadata": {
        "colab": {
          "base_uri": "https://localhost:8080/",
          "height": 460
        },
        "id": "d6kolLgNqk1c",
        "outputId": "a6d23e4f-a722-4316-faff-9c77011d4e41"
      },
      "execution_count": 56,
      "outputs": [
        {
          "output_type": "stream",
          "name": "stdout",
          "text": [
            "x_train shape: (400, 256, 256)\n",
            "400 train samples\n",
            "30 test samples\n",
            "y_train shape: (400, 256, 256)\n"
          ]
        },
        {
          "output_type": "error",
          "ename": "ValueError",
          "evalue": "ignored",
          "traceback": [
            "\u001b[0;31m---------------------------------------------------------------------------\u001b[0m",
            "\u001b[0;31mValueError\u001b[0m                                Traceback (most recent call last)",
            "\u001b[0;32m<ipython-input-56-b1e118868ece>\u001b[0m in \u001b[0;36m<cell line: 60>\u001b[0;34m()\u001b[0m\n\u001b[1;32m     58\u001b[0m \u001b[0mx\u001b[0m \u001b[0;34m=\u001b[0m \u001b[0mBatchNormalization\u001b[0m\u001b[0;34m(\u001b[0m\u001b[0;34m)\u001b[0m\u001b[0;34m(\u001b[0m\u001b[0minputs\u001b[0m\u001b[0;34m)\u001b[0m\u001b[0;34m\u001b[0m\u001b[0;34m\u001b[0m\u001b[0m\n\u001b[1;32m     59\u001b[0m \u001b[0mx\u001b[0m \u001b[0;34m=\u001b[0m \u001b[0mActivation\u001b[0m\u001b[0;34m(\u001b[0m\u001b[0;34m'relu'\u001b[0m\u001b[0;34m)\u001b[0m\u001b[0;34m(\u001b[0m\u001b[0mx\u001b[0m\u001b[0;34m)\u001b[0m\u001b[0;34m\u001b[0m\u001b[0;34m\u001b[0m\u001b[0m\n\u001b[0;32m---> 60\u001b[0;31m x = Conv2D(num_filters_bef_dense_block,\n\u001b[0m\u001b[1;32m     61\u001b[0m            \u001b[0mkernel_size\u001b[0m\u001b[0;34m=\u001b[0m\u001b[0;36m4\u001b[0m\u001b[0;34m,\u001b[0m\u001b[0;34m\u001b[0m\u001b[0;34m\u001b[0m\u001b[0m\n\u001b[1;32m     62\u001b[0m            \u001b[0mpadding\u001b[0m\u001b[0;34m=\u001b[0m\u001b[0;34m'same'\u001b[0m\u001b[0;34m,\u001b[0m\u001b[0;34m\u001b[0m\u001b[0;34m\u001b[0m\u001b[0m\n",
            "\u001b[0;32m/usr/local/lib/python3.10/dist-packages/keras/src/utils/traceback_utils.py\u001b[0m in \u001b[0;36merror_handler\u001b[0;34m(*args, **kwargs)\u001b[0m\n\u001b[1;32m     68\u001b[0m             \u001b[0;31m# To get the full stack trace, call:\u001b[0m\u001b[0;34m\u001b[0m\u001b[0;34m\u001b[0m\u001b[0m\n\u001b[1;32m     69\u001b[0m             \u001b[0;31m# `tf.debugging.disable_traceback_filtering()`\u001b[0m\u001b[0;34m\u001b[0m\u001b[0;34m\u001b[0m\u001b[0m\n\u001b[0;32m---> 70\u001b[0;31m             \u001b[0;32mraise\u001b[0m \u001b[0me\u001b[0m\u001b[0;34m.\u001b[0m\u001b[0mwith_traceback\u001b[0m\u001b[0;34m(\u001b[0m\u001b[0mfiltered_tb\u001b[0m\u001b[0;34m)\u001b[0m \u001b[0;32mfrom\u001b[0m \u001b[0;32mNone\u001b[0m\u001b[0;34m\u001b[0m\u001b[0;34m\u001b[0m\u001b[0m\n\u001b[0m\u001b[1;32m     71\u001b[0m         \u001b[0;32mfinally\u001b[0m\u001b[0;34m:\u001b[0m\u001b[0;34m\u001b[0m\u001b[0;34m\u001b[0m\u001b[0m\n\u001b[1;32m     72\u001b[0m             \u001b[0;32mdel\u001b[0m \u001b[0mfiltered_tb\u001b[0m\u001b[0;34m\u001b[0m\u001b[0;34m\u001b[0m\u001b[0m\n",
            "\u001b[0;32m/usr/local/lib/python3.10/dist-packages/keras/src/engine/input_spec.py\u001b[0m in \u001b[0;36massert_input_compatibility\u001b[0;34m(input_spec, inputs, layer_name)\u001b[0m\n\u001b[1;32m    251\u001b[0m             \u001b[0mndim\u001b[0m \u001b[0;34m=\u001b[0m \u001b[0mx\u001b[0m\u001b[0;34m.\u001b[0m\u001b[0mshape\u001b[0m\u001b[0;34m.\u001b[0m\u001b[0mrank\u001b[0m\u001b[0;34m\u001b[0m\u001b[0;34m\u001b[0m\u001b[0m\n\u001b[1;32m    252\u001b[0m             \u001b[0;32mif\u001b[0m \u001b[0mndim\u001b[0m \u001b[0;32mis\u001b[0m \u001b[0;32mnot\u001b[0m \u001b[0;32mNone\u001b[0m \u001b[0;32mand\u001b[0m \u001b[0mndim\u001b[0m \u001b[0;34m<\u001b[0m \u001b[0mspec\u001b[0m\u001b[0;34m.\u001b[0m\u001b[0mmin_ndim\u001b[0m\u001b[0;34m:\u001b[0m\u001b[0;34m\u001b[0m\u001b[0;34m\u001b[0m\u001b[0m\n\u001b[0;32m--> 253\u001b[0;31m                 raise ValueError(\n\u001b[0m\u001b[1;32m    254\u001b[0m                     \u001b[0;34mf'Input {input_index} of layer \"{layer_name}\" '\u001b[0m\u001b[0;34m\u001b[0m\u001b[0;34m\u001b[0m\u001b[0m\n\u001b[1;32m    255\u001b[0m                     \u001b[0;34m\"is incompatible with the layer: \"\u001b[0m\u001b[0;34m\u001b[0m\u001b[0;34m\u001b[0m\u001b[0m\n",
            "\u001b[0;31mValueError\u001b[0m: Input 0 of layer \"conv2d_29\" is incompatible with the layer: expected min_ndim=4, found ndim=3. Full shape received: (None, 256, 256)"
          ]
        }
      ]
    },
    {
      "cell_type": "code",
      "source": [
        ", metrics\n",
        "from tensorflow.keras.layers import Input, Conv2D, BatchNormalization, Activation, UpSampling2D\n",
        "from tensorflow.keras.models import Model\n",
        "\n",
        "# Input shape for CT image\n",
        "input_shape = (256, 256, 1)\n",
        "\n",
        "# Define the input layer\n",
        "inputs = Input(shape=input_shape)\n",
        "\n",
        "# Encoder\n",
        "x = Conv2D(64, (3, 3), padding='same')(inputs)\n",
        "x = Activation('relu')(x)\n",
        "x = BatchNormalization()(x)\n",
        "\n",
        "x = Conv2D(128, (3, 3), strides=(2, 2), padding='same')(x)\n",
        "x = Activation('relu')(x)\n",
        "x = BatchNormalization()(x)\n",
        "\n",
        "# Add more encoder layers as needed\n",
        "\n",
        "# Decoder\n",
        "x = UpSampling2D((2, 2))(x)\n",
        "x = Conv2D(64, (3, 3), padding='same')(x)\n",
        "x = Activation('relu')(x)\n",
        "x = BatchNormalization()(x)\n",
        "\n",
        "# Add more decoder layers as needed\n",
        "\n",
        "# Output layer\n",
        "x = Conv2D(1, (3, 3), activation='sigmoid', padding='same')(x)\n",
        "\n",
        "# Create the model\n",
        "model = Model(inputs, x)\n",
        "\n",
        "# Compile the model with an appropriate loss function (e.g., mean squared error for image reconstruction)\n",
        "model.compile(optimizer='adam', loss='mean_squared_error',metrics=['accuracy'])\n",
        "model.summary()\n"
      ],
      "metadata": {
        "colab": {
          "base_uri": "https://localhost:8080/"
        },
        "id": "kUJz0kHYwXiS",
        "outputId": "b64d0925-774d-4cb6-e56d-e0ebaed24e99"
      },
      "execution_count": 66,
      "outputs": [
        {
          "output_type": "stream",
          "name": "stdout",
          "text": [
            "Model: \"model_4\"\n",
            "_________________________________________________________________\n",
            " Layer (type)                Output Shape              Param #   \n",
            "=================================================================\n",
            " input_10 (InputLayer)       [(None, 256, 256, 1)]     0         \n",
            "                                                                 \n",
            " conv2d_34 (Conv2D)          (None, 256, 256, 64)      640       \n",
            "                                                                 \n",
            " activation_6 (Activation)   (None, 256, 256, 64)      0         \n",
            "                                                                 \n",
            " batch_normalization_6 (Bat  (None, 256, 256, 64)      256       \n",
            " chNormalization)                                                \n",
            "                                                                 \n",
            " conv2d_35 (Conv2D)          (None, 128, 128, 128)     73856     \n",
            "                                                                 \n",
            " activation_7 (Activation)   (None, 128, 128, 128)     0         \n",
            "                                                                 \n",
            " batch_normalization_7 (Bat  (None, 128, 128, 128)     512       \n",
            " chNormalization)                                                \n",
            "                                                                 \n",
            " up_sampling2d_11 (UpSampli  (None, 256, 256, 128)     0         \n",
            " ng2D)                                                           \n",
            "                                                                 \n",
            " conv2d_36 (Conv2D)          (None, 256, 256, 64)      73792     \n",
            "                                                                 \n",
            " activation_8 (Activation)   (None, 256, 256, 64)      0         \n",
            "                                                                 \n",
            " batch_normalization_8 (Bat  (None, 256, 256, 64)      256       \n",
            " chNormalization)                                                \n",
            "                                                                 \n",
            " conv2d_37 (Conv2D)          (None, 256, 256, 1)       577       \n",
            "                                                                 \n",
            "=================================================================\n",
            "Total params: 149889 (585.50 KB)\n",
            "Trainable params: 149377 (583.50 KB)\n",
            "Non-trainable params: 512 (2.00 KB)\n",
            "_________________________________________________________________\n"
          ]
        }
      ]
    },
    {
      "cell_type": "code",
      "source": [
        "from tensorflow.keras.callbacks import ModelCheckpoint, EarlyStopping\n",
        "import numpy as np\n",
        "model_checkpoint = ModelCheckpoint('best_model_autoEncoder.h1', monitor='val_accuracy', save_best_only=True, mode='max')\n",
        "\n",
        "# Callback để dừng huấn luyện khi val_accuracy không cải thiện nữa\n",
        "early_stopping = EarlyStopping(monitor='val_accuracy', patience=5, mode='max')\n",
        "\n",
        "# Huấn luyện mô hình với callbacks\n",
        "history = model.fit(x_train, y_train, epochs=20, validation_data=(x_test, y_test), callbacks=[model_checkpoint, early_stopping])"
      ],
      "metadata": {
        "colab": {
          "base_uri": "https://localhost:8080/"
        },
        "id": "SWL_KYl7wb4p",
        "outputId": "47f9244f-e358-48d2-e0e2-e017a303147a"
      },
      "execution_count": 67,
      "outputs": [
        {
          "output_type": "stream",
          "name": "stdout",
          "text": [
            "Epoch 1/20\n",
            "13/13 [==============================] - 9s 573ms/step - loss: 0.1879 - accuracy: 0.7528 - val_loss: 0.1554 - val_accuracy: 0.7626\n",
            "Epoch 2/20\n",
            "13/13 [==============================] - 6s 430ms/step - loss: 0.1272 - accuracy: 0.7505 - val_loss: 0.0861 - val_accuracy: 0.7626\n",
            "Epoch 3/20\n",
            "13/13 [==============================] - 6s 430ms/step - loss: 0.0905 - accuracy: 0.7574 - val_loss: 0.0716 - val_accuracy: 0.7626\n",
            "Epoch 4/20\n",
            "13/13 [==============================] - 6s 429ms/step - loss: 0.0760 - accuracy: 0.7587 - val_loss: 0.0726 - val_accuracy: 0.7626\n",
            "Epoch 5/20\n",
            "13/13 [==============================] - 6s 429ms/step - loss: 0.0733 - accuracy: 0.7587 - val_loss: 0.0744 - val_accuracy: 0.7626\n",
            "Epoch 6/20\n",
            "13/13 [==============================] - 6s 423ms/step - loss: 0.0731 - accuracy: 0.7587 - val_loss: 0.0740 - val_accuracy: 0.7626\n"
          ]
        }
      ]
    },
    {
      "cell_type": "code",
      "source": [
        "reconstructed_img = model.predict(x_test)"
      ],
      "metadata": {
        "colab": {
          "base_uri": "https://localhost:8080/"
        },
        "id": "wiv_WiAbzHw3",
        "outputId": "772d8269-4c6c-48a7-9c1b-4b8856dc51d7"
      },
      "execution_count": 93,
      "outputs": [
        {
          "output_type": "stream",
          "name": "stdout",
          "text": [
            "1/1 [==============================] - 0s 24ms/step\n"
          ]
        }
      ]
    },
    {
      "cell_type": "code",
      "source": [
        "reconstructed_img[0]\n",
        "# col1, col2, col3,col4 = reconstructed_img\n",
        "# print(\"Giá trị cột 2:\", col2)\n",
        "# print(\"Giá trị cột 3:\", col3)"
      ],
      "metadata": {
        "colab": {
          "base_uri": "https://localhost:8080/"
        },
        "id": "-DNO4lxTzR8q",
        "outputId": "f0a8357d-86b9-4c3c-836d-e098c233ae81"
      },
      "execution_count": 100,
      "outputs": [
        {
          "output_type": "execute_result",
          "data": {
            "text/plain": [
              "array([[[0.2415278 ],\n",
              "        [0.14099252],\n",
              "        [0.14086369],\n",
              "        ...,\n",
              "        [0.14456065],\n",
              "        [0.17525777],\n",
              "        [0.25492153]],\n",
              "\n",
              "       [[0.14272065],\n",
              "        [0.05033875],\n",
              "        [0.05107039],\n",
              "        ...,\n",
              "        [0.05177538],\n",
              "        [0.06746449],\n",
              "        [0.14246476]],\n",
              "\n",
              "       [[0.15339708],\n",
              "        [0.06138951],\n",
              "        [0.06863997],\n",
              "        ...,\n",
              "        [0.07109047],\n",
              "        [0.09078676],\n",
              "        [0.1815399 ]],\n",
              "\n",
              "       ...,\n",
              "\n",
              "       [[0.15278521],\n",
              "        [0.06163121],\n",
              "        [0.06965568],\n",
              "        ...,\n",
              "        [0.0712537 ],\n",
              "        [0.09008859],\n",
              "        [0.17880988]],\n",
              "\n",
              "       [[0.16554986],\n",
              "        [0.07748281],\n",
              "        [0.0881073 ],\n",
              "        ...,\n",
              "        [0.09120105],\n",
              "        [0.110424  ],\n",
              "        [0.21053962]],\n",
              "\n",
              "       [[0.26979634],\n",
              "        [0.16805948],\n",
              "        [0.18554384],\n",
              "        ...,\n",
              "        [0.18891598],\n",
              "        [0.19733548],\n",
              "        [0.2892167 ]]], dtype=float32)"
            ]
          },
          "metadata": {},
          "execution_count": 100
        }
      ]
    },
    {
      "cell_type": "code",
      "source": [
        "y_test[0]"
      ],
      "metadata": {
        "colab": {
          "base_uri": "https://localhost:8080/",
          "height": 472
        },
        "id": "AuzF3AeY_GwO",
        "outputId": "f616add2-8076-4877-830c-49c97885efe6"
      },
      "execution_count": 102,
      "outputs": [
        {
          "output_type": "display_data",
          "data": {
            "text/plain": [
              "<Figure size 640x480 with 1 Axes>"
            ],
            "image/png": "[encoded data removed]"
          },
          "metadata": {}
        }
      ]
    },
    {
      "cell_type": "markdown",
      "source": [
        "# U - net"
      ],
      "metadata": {
        "id": "i5keHiVCNY-x"
      }
    }
  ],
  "metadata": {
    "colab": {
      "provenance": [],
      "gpuType": "T4"
    },
    "kernelspec": {
      "display_name": "Python 3",
      "name": "python3"
    },
    "language_info": {
      "name": "python"
    },
    "accelerator": "GPU"
  },
  "nbformat": 4,
  "nbformat_minor": 0
}